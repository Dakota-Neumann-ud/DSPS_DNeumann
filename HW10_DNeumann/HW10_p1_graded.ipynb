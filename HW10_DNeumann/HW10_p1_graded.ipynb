{
 "cells": [
  {
   "cell_type": "code",
   "execution_count": 23,
   "metadata": {
    "colab": {
     "base_uri": "https://localhost:8080/"
    },
    "id": "ToAZH48rdPQJ",
    "outputId": "547418d9-6aeb-4c72-862d-41a801f37fcc"
   },
   "outputs": [
    {
     "name": "stdout",
     "output_type": "stream",
     "text": [
      "Populating the interactive namespace from numpy and matplotlib\n"
     ]
    },
    {
     "name": "stderr",
     "output_type": "stream",
     "text": [
      "/usr/local/lib/python3.7/dist-packages/IPython/core/magics/pylab.py:161: UserWarning: pylab import has clobbered these variables: ['test']\n",
      "`%matplotlib` prevents importing * from pylab and numpy\n",
      "  \"\\n`%matplotlib` prevents importing * from pylab and numpy\"\n"
     ]
    }
   ],
   "source": [
    "import keras\n",
    "from keras.datasets import mnist\n",
    "from keras.models import Sequential\n",
    "from keras import optimizers\n",
    "from keras.layers import Dense, Dropout, Flatten\n",
    "from keras.layers import Conv2D, MaxPooling2D\n",
    "from keras.callbacks import EarlyStopping\n",
    "from keras.utils import np_utils\n",
    "from keras import backend as K\n",
    "\n",
    "import tensorflow as tf\n",
    "from tensorflow import keras\n",
    "from tensorflow.keras import layers\n",
    "\n",
    "import glob\n",
    "import pylab as pl\n",
    "from PIL import Image\n",
    "%pylab inline\n"
   ]
  },
  {
   "cell_type": "code",
   "execution_count": 24,
   "metadata": {
    "id": "ev1KrXy4dUd6"
   },
   "outputs": [],
   "source": [
    "def compareinout(outim, testimg, initialshape=(28,28)):\n",
    "  \"\"\"\n",
    "  This function generates a comparison between the original test image\n",
    "  and the processed one.\n",
    "  \"\"\"\n",
    "  for i in range(10):\n",
    "    fig = pl.figure(figsize(6,3))\n",
    "  \n",
    "    ax = fig.add_subplot(121) \n",
    "    ax.imshow(testimg[i].reshape(initialshape) , cmap=\"bone\")\n",
    "    ax.get_xaxis().set_visible(False)\n",
    "    ax.get_yaxis().set_visible(False)\n",
    "  \n",
    "    ax = fig.add_subplot(122) \n",
    "    ax.imshow(outim[i].reshape(initialshape) , cmap=\"bone\")\n",
    "    ax.get_xaxis().set_visible(False)\n",
    "    ax.get_yaxis().set_visible(False)"
   ]
  },
  {
   "cell_type": "code",
   "execution_count": 25,
   "metadata": {
    "id": "IBzc1n5Jra6g"
   },
   "outputs": [],
   "source": [
    "def compareinout_encoded(outim, testimg, initialshape=(28,28)):\n",
    "  \"\"\"\n",
    "  This function not only generates a comparison between the original test\n",
    "  image and the processed one, but it also produces a chart that shows which\n",
    "  number that the test image is most similar to\n",
    "  \"\"\"\n",
    "  for i in range(10):\n",
    "    fig = pl.figure(figsize(6,3))\n",
    "    figMid = pl.figure(figsize(10,5))\n",
    "\n",
    "    ax = fig.add_subplot(131) \n",
    "    ax.imshow(testimg[i].reshape(initialshape) , cmap=\"bone\")\n",
    "    ax.get_xaxis().set_visible(False)\n",
    "    ax.get_yaxis().set_visible(False)\n",
    "    \n",
    "    ax = figMid.add_subplot(132)\n",
    "    pl.imshow(functors(testimg[i:i+1])[0])\n",
    "    pl.yticks([])\n",
    "\n",
    "    ax = fig.add_subplot(133) \n",
    "    ax.imshow(outim[i].reshape(initialshape) , cmap=\"bone\")\n",
    "    ax.get_xaxis().set_visible(False)\n",
    "    ax.get_yaxis().set_visible(False)"
   ]
  },
  {
   "cell_type": "code",
   "execution_count": 25,
   "metadata": {
    "id": "61LIhnBDdXLy"
   },
   "outputs": [],
   "source": [
    "\n",
    "\n",
    "\n"
   ]
  },
  {
   "cell_type": "code",
   "execution_count": 26,
   "metadata": {
    "id": "tx5LYNeKdYMI"
   },
   "outputs": [],
   "source": [
    "# Since we only need images from the dataset to encode and decode, we\n",
    "# won't use the labels.\n",
    "(train, _), (test, _) = mnist.load_data()"
   ]
  },
  {
   "cell_type": "code",
   "execution_count": 27,
   "metadata": {
    "colab": {
     "base_uri": "https://localhost:8080/",
     "height": 282
    },
    "id": "KpQC2Mk5d93p",
    "outputId": "346cbdb3-07c1-479d-d74c-5d922557d4ba"
   },
   "outputs": [
    {
     "data": {
      "text/plain": [
       "<matplotlib.image.AxesImage at 0x7ff984c78f50>"
      ]
     },
     "execution_count": 27,
     "metadata": {},
     "output_type": "execute_result"
    },
    {
     "data": {
      "image/png": "[encoded data removed]",
      "text/plain": [
       "<Figure size 432x288 with 1 Axes>"
      ]
     },
     "metadata": {
      "needs_background": "light"
     },
     "output_type": "display_data"
    }
   ],
   "source": [
    "pl.imshow(train[0])"
   ]
  },
  {
   "cell_type": "code",
   "execution_count": 28,
   "metadata": {
    "colab": {
     "base_uri": "https://localhost:8080/",
     "height": 282
    },
    "id": "5YXpFI0kepPF",
    "outputId": "e52e7278-13bf-462c-996e-da22b8d00296"
   },
   "outputs": [
    {
     "data": {
      "text/plain": [
       "<matplotlib.image.AxesImage at 0x7ff9824332d0>"
      ]
     },
     "execution_count": 28,
     "metadata": {},
     "output_type": "execute_result"
    },
    {
     "data": {
      "image/png": "[encoded data removed]",
      "text/plain": [
       "<Figure size 432x288 with 1 Axes>"
      ]
     },
     "metadata": {
      "needs_background": "light"
     },
     "output_type": "display_data"
    }
   ],
   "source": [
    "pl.imshow(test[0])"
   ]
  },
  {
   "cell_type": "code",
   "execution_count": 29,
   "metadata": {
    "colab": {
     "base_uri": "https://localhost:8080/"
    },
    "id": "4GzFAdmjdZc-",
    "outputId": "46051e28-2330-4b26-c5fb-65851f1750b9"
   },
   "outputs": [
    {
     "data": {
      "text/plain": [
       "((60000, 784), (10000, 784))"
      ]
     },
     "execution_count": 29,
     "metadata": {},
     "output_type": "execute_result"
    }
   ],
   "source": [
    "\n",
    "# Normalize and reshape the data\n",
    "train = (train.astype(float) / 255).reshape(len(train), 784)\n",
    "test = (test.astype(float) / 255).reshape(len(test), 784)\n",
    "train.shape, test.shape\n"
   ]
  },
  {
   "cell_type": "code",
   "execution_count": 30,
   "metadata": {
    "id": "rYnUZ5aKkiYp"
   },
   "outputs": [],
   "source": [
    "model = Sequential()\n",
    "## encoder\n",
    "# input layer and the output size\n",
    "model.add(Dense(128, activation='relu', input_dim=784))\n",
    "#compression layers\n",
    "model.add(Dense(64, activation='relu'))\n",
    "model.add(Dense(32, activation='relu'))\n",
    "model.add(Dense(16, activation='relu'))\n",
    "## deencoder\n",
    "#decompression layers, same size as in the encoder\n",
    "model.add(Dense(32, activation='relu'))\n",
    "model.add(Dense(64, activation='relu'))\n",
    "model.add(Dense(128, activation='relu'))\n",
    "#output layer, same size as input\n",
    "model.add(Dense(784, activation='sigmoid'))\n",
    "\n"
   ]
  },
  {
   "cell_type": "code",
   "execution_count": 31,
   "metadata": {
    "id": "RpVXLWQRwFrY"
   },
   "outputs": [],
   "source": [
    "callback = EarlyStopping(monitor='val_loss', patience=5, min_delta=0.0001)\n",
    "\n",
    "opt = keras.optimizers.Adam(learning_rate=0.001)\n",
    "model.compile(loss=\"binary_crossentropy\", optimizer=opt)"
   ]
  },
  {
   "cell_type": "code",
   "execution_count": 32,
   "metadata": {
    "colab": {
     "base_uri": "https://localhost:8080/"
    },
    "id": "qoq6uKNyin67",
    "outputId": "b0377c2a-66e4-4d54-8936-b6e5c67f8761"
   },
   "outputs": [
    {
     "name": "stdout",
     "output_type": "stream",
     "text": [
      "Epoch 1/20\n",
      "600/600 [==============================] - 5s 7ms/step - loss: 0.2226 - val_loss: 0.1580\n",
      "Epoch 2/20\n",
      "600/600 [==============================] - 4s 7ms/step - loss: 0.1481 - val_loss: 0.1377\n",
      "Epoch 3/20\n",
      "600/600 [==============================] - 4s 7ms/step - loss: 0.1333 - val_loss: 0.1277\n",
      "Epoch 4/20\n",
      "600/600 [==============================] - 4s 7ms/step - loss: 0.1259 - val_loss: 0.1226\n",
      "Epoch 5/20\n",
      "600/600 [==============================] - 4s 7ms/step - loss: 0.1220 - val_loss: 0.1194\n",
      "Epoch 6/20\n",
      "600/600 [==============================] - 4s 7ms/step - loss: 0.1191 - val_loss: 0.1165\n",
      "Epoch 7/20\n",
      "600/600 [==============================] - 4s 7ms/step - loss: 0.1164 - val_loss: 0.1144\n",
      "Epoch 8/20\n",
      "600/600 [==============================] - 4s 7ms/step - loss: 0.1145 - val_loss: 0.1127\n",
      "Epoch 9/20\n",
      "600/600 [==============================] - 4s 7ms/step - loss: 0.1129 - val_loss: 0.1111\n",
      "Epoch 10/20\n",
      "600/600 [==============================] - 4s 7ms/step - loss: 0.1115 - val_loss: 0.1096\n",
      "Epoch 11/20\n",
      "600/600 [==============================] - 4s 7ms/step - loss: 0.1101 - val_loss: 0.1091\n",
      "Epoch 12/20\n",
      "600/600 [==============================] - 4s 7ms/step - loss: 0.1087 - val_loss: 0.1073\n",
      "Epoch 13/20\n",
      "600/600 [==============================] - 4s 7ms/step - loss: 0.1077 - val_loss: 0.1062\n",
      "Epoch 14/20\n",
      "600/600 [==============================] - 4s 7ms/step - loss: 0.1067 - val_loss: 0.1052\n",
      "Epoch 15/20\n",
      "600/600 [==============================] - 4s 7ms/step - loss: 0.1056 - val_loss: 0.1044\n",
      "Epoch 16/20\n",
      "600/600 [==============================] - 4s 7ms/step - loss: 0.1046 - val_loss: 0.1032\n",
      "Epoch 17/20\n",
      "600/600 [==============================] - 4s 7ms/step - loss: 0.1037 - val_loss: 0.1026\n",
      "Epoch 18/20\n",
      "600/600 [==============================] - 4s 7ms/step - loss: 0.1030 - val_loss: 0.1020\n",
      "Epoch 19/20\n",
      "600/600 [==============================] - 4s 7ms/step - loss: 0.1024 - val_loss: 0.1014\n",
      "Epoch 20/20\n",
      "600/600 [==============================] - 4s 7ms/step - loss: 0.1018 - val_loss: 0.1013\n"
     ]
    }
   ],
   "source": [
    "history = model.fit(\n",
    "    train,\n",
    "    train,\n",
    "    epochs=20,\n",
    "    batch_size=100,\n",
    "    validation_data=(test, test),\n",
    "    callbacks=[callback]\n",
    ")"
   ]
  },
  {
   "cell_type": "code",
   "execution_count": 33,
   "metadata": {
    "colab": {
     "base_uri": "https://localhost:8080/",
     "height": 296
    },
    "id": "j83vhXXrizPc",
    "outputId": "ff4d82e4-2fe5-4f71-a281-78dae30978c3"
   },
   "outputs": [
    {
     "data": {
      "text/plain": [
       "<matplotlib.legend.Legend at 0x7ff982116050>"
      ]
     },
     "execution_count": 33,
     "metadata": {},
     "output_type": "execute_result"
    },
    {
     "data": {
      "image/png": "[encoded data removed]",
      "text/plain": [
       "<Figure size 432x288 with 1 Axes>"
      ]
     },
     "metadata": {
      "needs_background": "light"
     },
     "output_type": "display_data"
    }
   ],
   "source": [
    "pl.plot(np.array(history.history['loss']), label=\"training\")\n",
    "pl.plot(np.array(history.history['val_loss']), label=\"validation\")\n",
    "pl.ylabel('loss')\n",
    "pl.xlabel('iteration')\n",
    "pl.legend()"
   ]
  },
  {
   "cell_type": "markdown",
   "metadata": {
    "id": "rF6lp_3e3_16"
   },
   "source": [
    "This shows that the lines effectively converged during this training, and there was not much more learning to occur, since the slope became almost flat"
   ]
  },
  {
   "cell_type": "code",
   "execution_count": 34,
   "metadata": {
    "colab": {
     "base_uri": "https://localhost:8080/",
     "height": 1000
    },
    "id": "2AMh5kXVosqS",
    "outputId": "45b6de2f-1f1a-48b3-8cd8-fa06c2c94ee5"
   },
   "outputs": [
    {
     "data": {
      "image/png": "[encoded data removed]",
      "text/plain": [
       "<Figure size 432x216 with 2 Axes>"
      ]
     },
     "metadata": {
      "needs_background": "light"
     },
     "output_type": "display_data"
    },
    {
     "data": {
      "image/png": "[encoded data removed]",
      "text/plain": [
       "<Figure size 432x216 with 2 Axes>"
      ]
     },
     "metadata": {
      "needs_background": "light"
     },
     "output_type": "display_data"
    },
    {
     "data": {
      "image/png": "[encoded data removed]",
      "text/plain": [
       "<Figure size 432x216 with 2 Axes>"
      ]
     },
     "metadata": {
      "needs_background": "light"
     },
     "output_type": "display_data"
    },
    {
     "data": {
      "image/png": "[encoded data removed]",
      "text/plain": [
       "<Figure size 432x216 with 2 Axes>"
      ]
     },
     "metadata": {
      "needs_background": "light"
     },
     "output_type": "display_data"
    },
    {
     "data": {
      "image/png": "[encoded data removed]",
      "text/plain": [
       "<Figure size 432x216 with 2 Axes>"
      ]
     },
     "metadata": {
      "needs_background": "light"
     },
     "output_type": "display_data"
    },
    {
     "data": {
      "image/png": "[encoded data removed]",
      "text/plain": [
       "<Figure size 432x216 with 2 Axes>"
      ]
     },
     "metadata": {
      "needs_background": "light"
     },
     "output_type": "display_data"
    },
    {
     "data": {
      "image/png": "[encoded data removed]",
      "text/plain": [
       "<Figure size 432x216 with 2 Axes>"
      ]
     },
     "metadata": {
      "needs_background": "light"
     },
     "output_type": "display_data"
    },
    {
     "data": {
      "image/png": "[encoded data removed]",
      "text/plain": [
       "<Figure size 432x216 with 2 Axes>"
      ]
     },
     "metadata": {
      "needs_background": "light"
     },
     "output_type": "display_data"
    },
    {
     "data": {
      "image/png": "[encoded data removed]",
      "text/plain": [
       "<Figure size 432x216 with 2 Axes>"
      ]
     },
     "metadata": {
      "needs_background": "light"
     },
     "output_type": "display_data"
    },
    {
     "data": {
      "image/png": "[encoded data removed]",
      "text/plain": [
       "<Figure size 432x216 with 2 Axes>"
      ]
     },
     "metadata": {
      "needs_background": "light"
     },
     "output_type": "display_data"
    }
   ],
   "source": [
    "output_image = model.predict(test)\n",
    "compareinout(output_image, test)"
   ]
  },
  {
   "cell_type": "markdown",
   "metadata": {
    "id": "WnqIUE7M3zSM"
   },
   "source": [
    "It seems that the image was able to be recovered after being compressed down to 16 neurons!"
   ]
  },
  {
   "cell_type": "code",
   "execution_count": 35,
   "metadata": {
    "id": "SOSVYH_QtPrS"
   },
   "outputs": [],
   "source": [
    "model2=model\n",
    "opt2 = keras.optimizers.Adadelta(learning_rate=0.03)\n",
    "model2.compile(optimizer=opt2, loss=\"mean_squared_error\")"
   ]
  },
  {
   "cell_type": "code",
   "execution_count": 36,
   "metadata": {
    "colab": {
     "base_uri": "https://localhost:8080/"
    },
    "id": "w58AsovPub05",
    "outputId": "521ebd1c-dc89-4f43-ce75-2e1fb89ad8c2"
   },
   "outputs": [
    {
     "name": "stdout",
     "output_type": "stream",
     "text": [
      "Epoch 1/20\n",
      "600/600 [==============================] - 4s 6ms/step - loss: 0.0127 - val_loss: 0.0126\n",
      "Epoch 2/20\n",
      "600/600 [==============================] - 3s 6ms/step - loss: 0.0126 - val_loss: 0.0126\n",
      "Epoch 3/20\n",
      "600/600 [==============================] - 3s 6ms/step - loss: 0.0126 - val_loss: 0.0125\n",
      "Epoch 4/20\n",
      "600/600 [==============================] - 3s 6ms/step - loss: 0.0125 - val_loss: 0.0125\n",
      "Epoch 5/20\n",
      "600/600 [==============================] - 3s 6ms/step - loss: 0.0125 - val_loss: 0.0125\n",
      "Epoch 6/20\n",
      "600/600 [==============================] - 3s 6ms/step - loss: 0.0125 - val_loss: 0.0125\n",
      "Epoch 7/20\n",
      "600/600 [==============================] - 3s 6ms/step - loss: 0.0125 - val_loss: 0.0125\n",
      "Epoch 8/20\n",
      "600/600 [==============================] - 3s 6ms/step - loss: 0.0125 - val_loss: 0.0125\n",
      "Epoch 9/20\n",
      "600/600 [==============================] - 3s 6ms/step - loss: 0.0125 - val_loss: 0.0125\n",
      "Epoch 10/20\n",
      "600/600 [==============================] - 3s 6ms/step - loss: 0.0125 - val_loss: 0.0125\n",
      "Epoch 11/20\n",
      "600/600 [==============================] - 3s 6ms/step - loss: 0.0125 - val_loss: 0.0125\n",
      "Epoch 12/20\n",
      "600/600 [==============================] - 3s 6ms/step - loss: 0.0125 - val_loss: 0.0125\n",
      "Epoch 13/20\n",
      "600/600 [==============================] - 3s 6ms/step - loss: 0.0124 - val_loss: 0.0124\n",
      "Epoch 14/20\n",
      "600/600 [==============================] - 3s 6ms/step - loss: 0.0124 - val_loss: 0.0124\n",
      "Epoch 15/20\n",
      "600/600 [==============================] - 3s 6ms/step - loss: 0.0124 - val_loss: 0.0124\n",
      "Epoch 16/20\n",
      "600/600 [==============================] - 3s 6ms/step - loss: 0.0124 - val_loss: 0.0124\n",
      "Epoch 17/20\n",
      "600/600 [==============================] - 3s 6ms/step - loss: 0.0124 - val_loss: 0.0124\n",
      "Epoch 18/20\n",
      "600/600 [==============================] - 4s 6ms/step - loss: 0.0124 - val_loss: 0.0124\n",
      "Epoch 19/20\n",
      "600/600 [==============================] - 3s 6ms/step - loss: 0.0124 - val_loss: 0.0124\n",
      "Epoch 20/20\n",
      "600/600 [==============================] - 3s 6ms/step - loss: 0.0124 - val_loss: 0.0124\n"
     ]
    }
   ],
   "source": [
    "history2 = model2.fit(\n",
    "    train,\n",
    "    train,\n",
    "    epochs=30,\n",
    "    batch_size=100,\n",
    "    validation_data=(test, test)\n",
    ")"
   ]
  },
  {
   "cell_type": "code",
   "execution_count": 37,
   "metadata": {
    "colab": {
     "base_uri": "https://localhost:8080/",
     "height": 242
    },
    "id": "PM6-WLsrvE-1",
    "outputId": "4aa263a1-1494-45a6-d61f-b6112545d0d9"
   },
   "outputs": [
    {
     "data": {
      "text/plain": [
       "<matplotlib.legend.Legend at 0x7ff984cb3f50>"
      ]
     },
     "execution_count": 37,
     "metadata": {},
     "output_type": "execute_result"
    },
    {
     "data": {
      "image/png": "[encoded data removed]",
      "text/plain": [
       "<Figure size 432x216 with 1 Axes>"
      ]
     },
     "metadata": {
      "needs_background": "light"
     },
     "output_type": "display_data"
    }
   ],
   "source": [
    "pl.plot(np.array(history2.history['loss']), label=\"training\")\n",
    "pl.plot(np.array(history2.history['val_loss']), label=\"validation\")\n",
    "pl.ylabel('loss')\n",
    "pl.xlabel('iteration')\n",
    "pl.legend()"
   ]
  },
  {
   "cell_type": "markdown",
   "metadata": {
    "id": "FFSJiRc33dIh"
   },
   "source": [
    "While I couldv'e let there be more epochs, so that more learning would happen, the rate of change is a very small percentage of the general loss."
   ]
  },
  {
   "cell_type": "code",
   "execution_count": 38,
   "metadata": {
    "colab": {
     "base_uri": "https://localhost:8080/",
     "height": 1000
    },
    "id": "L4Ix1gEWv1En",
    "outputId": "1e2e8551-b9b6-4f54-946e-4a21a5aefd08"
   },
   "outputs": [
    {
     "data": {
      "image/png": "[encoded data removed]",
      "text/plain": [
       "<Figure size 432x216 with 2 Axes>"
      ]
     },
     "metadata": {
      "needs_background": "light"
     },
     "output_type": "display_data"
    },
    {
     "data": {
      "image/png": "[encoded data removed]",
      "text/plain": [
       "<Figure size 432x216 with 2 Axes>"
      ]
     },
     "metadata": {
      "needs_background": "light"
     },
     "output_type": "display_data"
    },
    {
     "data": {
      "image/png": "[encoded data removed]",
      "text/plain": [
       "<Figure size 432x216 with 2 Axes>"
      ]
     },
     "metadata": {
      "needs_background": "light"
     },
     "output_type": "display_data"
    },
    {
     "data": {
      "image/png": "[encoded data removed]",
      "text/plain": [
       "<Figure size 432x216 with 2 Axes>"
      ]
     },
     "metadata": {
      "needs_background": "light"
     },
     "output_type": "display_data"
    },
    {
     "data": {
      "image/png": "[encoded data removed]",
      "text/plain": [
       "<Figure size 432x216 with 2 Axes>"
      ]
     },
     "metadata": {
      "needs_background": "light"
     },
     "output_type": "display_data"
    },
    {
     "data": {
      "image/png": "[encoded data removed]",
      "text/plain": [
       "<Figure size 432x216 with 2 Axes>"
      ]
     },
     "metadata": {
      "needs_background": "light"
     },
     "output_type": "display_data"
    },
    {
     "data": {
      "image/png": "[encoded data removed]",
      "text/plain": [
       "<Figure size 432x216 with 2 Axes>"
      ]
     },
     "metadata": {
      "needs_background": "light"
     },
     "output_type": "display_data"
    },
    {
     "data": {
      "image/png": "[encoded data removed]",
      "text/plain": [
       "<Figure size 432x216 with 2 Axes>"
      ]
     },
     "metadata": {
      "needs_background": "light"
     },
     "output_type": "display_data"
    },
    {
     "data": {
      "image/png": "[encoded data removed]",
      "text/plain": [
       "<Figure size 432x216 with 2 Axes>"
      ]
     },
     "metadata": {
      "needs_background": "light"
     },
     "output_type": "display_data"
    },
    {
     "data": {
      "image/png": "[encoded data removed]",
      "text/plain": [
       "<Figure size 432x216 with 2 Axes>"
      ]
     },
     "metadata": {
      "needs_background": "light"
     },
     "output_type": "display_data"
    }
   ],
   "source": [
    "output_image2 = model2.predict(test)\n",
    "compareinout(output_image2, test)"
   ]
  },
  {
   "cell_type": "markdown",
   "metadata": {
    "id": "XBP5JgSg3Sys"
   },
   "source": [
    "While most of the images are legible, some of them aren't."
   ]
  },
  {
   "cell_type": "code",
   "execution_count": 39,
   "metadata": {
    "colab": {
     "base_uri": "https://localhost:8080/",
     "height": 72
    },
    "id": "Lh1fAaatpGFl",
    "outputId": "a2bbbb09-36a9-452b-c740-6234d8e3fffe"
   },
   "outputs": [
    {
     "data": {
      "image/png": "[encoded data removed]",
      "text/plain": [
       "<Figure size 432x216 with 1 Axes>"
      ]
     },
     "metadata": {
      "needs_background": "light"
     },
     "output_type": "display_data"
    }
   ],
   "source": [
    "\n",
    "# input placeholder\n",
    "inp = model2.input                   \n",
    "# extract the bottle neck outputs\n",
    "outputs = model2.layers[3].output     \n",
    "# create a function to evaluate the output of the bottle neck layer for a given input\n",
    "functors = K.function([inp], [outputs])    \n",
    "\n",
    "# Testing\n",
    "layer_outs = functors(test[:1])\n",
    "pl.imshow(functors(test[:1])[0]);"
   ]
  },
  {
   "cell_type": "markdown",
   "metadata": {
    "id": "FKfamOdV3Alb"
   },
   "source": [
    "It failed to 'see' the 7\n"
   ]
  },
  {
   "cell_type": "code",
   "execution_count": 40,
   "metadata": {
    "colab": {
     "base_uri": "https://localhost:8080/",
     "height": 1000
    },
    "id": "k_5ztR63qDI0",
    "outputId": "58bffc57-e894-462a-b7bf-d2ffbdd85562"
   },
   "outputs": [
    {
     "data": {
      "image/png": "[encoded data removed]",
      "text/plain": [
       "<Figure size 432x216 with 2 Axes>"
      ]
     },
     "metadata": {
      "needs_background": "light"
     },
     "output_type": "display_data"
    },
    {
     "data": {
      "image/png": "[encoded data removed]",
      "text/plain": [
       "<Figure size 720x360 with 1 Axes>"
      ]
     },
     "metadata": {
      "needs_background": "light"
     },
     "output_type": "display_data"
    },
    {
     "data": {
      "image/png": "[encoded data removed]",
      "text/plain": [
       "<Figure size 432x216 with 2 Axes>"
      ]
     },
     "metadata": {
      "needs_background": "light"
     },
     "output_type": "display_data"
    },
    {
     "data": {
      "image/png": "[encoded data removed]",
      "text/plain": [
       "<Figure size 720x360 with 1 Axes>"
      ]
     },
     "metadata": {
      "needs_background": "light"
     },
     "output_type": "display_data"
    },
    {
     "data": {
      "image/png": "[encoded data removed]",
      "text/plain": [
       "<Figure size 432x216 with 2 Axes>"
      ]
     },
     "metadata": {
      "needs_background": "light"
     },
     "output_type": "display_data"
    },
    {
     "data": {
      "image/png": "[encoded data removed]",
      "text/plain": [
       "<Figure size 720x360 with 1 Axes>"
      ]
     },
     "metadata": {
      "needs_background": "light"
     },
     "output_type": "display_data"
    },
    {
     "data": {
      "image/png": "[encoded data removed]",
      "text/plain": [
       "<Figure size 432x216 with 2 Axes>"
      ]
     },
     "metadata": {
      "needs_background": "light"
     },
     "output_type": "display_data"
    },
    {
     "data": {
      "image/png": "[encoded data removed]",
      "text/plain": [
       "<Figure size 720x360 with 1 Axes>"
      ]
     },
     "metadata": {
      "needs_background": "light"
     },
     "output_type": "display_data"
    },
    {
     "data": {
      "image/png": "[encoded data removed]",
      "text/plain": [
       "<Figure size 432x216 with 2 Axes>"
      ]
     },
     "metadata": {
      "needs_background": "light"
     },
     "output_type": "display_data"
    },
    {
     "data": {
      "image/png": "[encoded data removed]",
      "text/plain": [
       "<Figure size 720x360 with 1 Axes>"
      ]
     },
     "metadata": {
      "needs_background": "light"
     },
     "output_type": "display_data"
    },
    {
     "data": {
      "image/png": "[encoded data removed]",
      "text/plain": [
       "<Figure size 432x216 with 2 Axes>"
      ]
     },
     "metadata": {
      "needs_background": "light"
     },
     "output_type": "display_data"
    },
    {
     "data": {
      "image/png": "[encoded data removed]",
      "text/plain": [
       "<Figure size 720x360 with 1 Axes>"
      ]
     },
     "metadata": {
      "needs_background": "light"
     },
     "output_type": "display_data"
    },
    {
     "data": {
      "image/png": "[encoded data removed]",
      "text/plain": [
       "<Figure size 432x216 with 2 Axes>"
      ]
     },
     "metadata": {
      "needs_background": "light"
     },
     "output_type": "display_data"
    },
    {
     "data": {
      "image/png": "[encoded data removed]",
      "text/plain": [
       "<Figure size 720x360 with 1 Axes>"
      ]
     },
     "metadata": {
      "needs_background": "light"
     },
     "output_type": "display_data"
    },
    {
     "data": {
      "image/png": "[encoded data removed]",
      "text/plain": [
       "<Figure size 432x216 with 2 Axes>"
      ]
     },
     "metadata": {
      "needs_background": "light"
     },
     "output_type": "display_data"
    },
    {
     "data": {
      "image/png": "[encoded data removed]",
      "text/plain": [
       "<Figure size 720x360 with 1 Axes>"
      ]
     },
     "metadata": {
      "needs_background": "light"
     },
     "output_type": "display_data"
    },
    {
     "data": {
      "image/png": "[encoded data removed]",
      "text/plain": [
       "<Figure size 432x216 with 2 Axes>"
      ]
     },
     "metadata": {
      "needs_background": "light"
     },
     "output_type": "display_data"
    },
    {
     "data": {
      "image/png": "[encoded data removed]",
      "text/plain": [
       "<Figure size 720x360 with 1 Axes>"
      ]
     },
     "metadata": {
      "needs_background": "light"
     },
     "output_type": "display_data"
    },
    {
     "data": {
      "image/png": "[encoded data removed]",
      "text/plain": [
       "<Figure size 432x216 with 2 Axes>"
      ]
     },
     "metadata": {
      "needs_background": "light"
     },
     "output_type": "display_data"
    },
    {
     "data": {
      "image/png": "[encoded data removed]",
      "text/plain": [
       "<Figure size 720x360 with 1 Axes>"
      ]
     },
     "metadata": {
      "needs_background": "light"
     },
     "output_type": "display_data"
    }
   ],
   "source": [
    "compareinout_encoded(output_image2, test)"
   ]
  },
  {
   "cell_type": "markdown",
   "metadata": {
    "id": "XzTcTVHt8AdP"
   },
   "source": [
    "# Enter The desired Photo Number Below: (between 1 and 10)"
   ]
  },
  {
   "cell_type": "markdown",
   "metadata": {
    "id": "ZWv9NfIfEzrS"
   },
   "source": [
    "It's ability to recognize numbers is very poor"
   ]
  },
  {
   "cell_type": "code",
   "execution_count": 68,
   "metadata": {
    "id": "t4RI2oS7sjxE"
   },
   "outputs": [],
   "source": [
    "photo_number = 2"
   ]
  },
  {
   "cell_type": "code",
   "execution_count": 67,
   "metadata": {
    "colab": {
     "base_uri": "https://localhost:8080/"
    },
    "id": "J_VSuF_W6i4W",
    "outputId": "8c779244-3872-4a85-d5bf-cd4600808e9d"
   },
   "outputs": [
    {
     "name": "stdout",
     "output_type": "stream",
     "text": [
      "Photo  2  is recognized as:\t 8\n"
     ]
    }
   ],
   "source": [
    "for i in range(10):\n",
    "  if max(functors(test[photo_number-1:photo_number])[0][0][:10])==functors(test[photo_number-1:photo_number])[0][0][i]:\n",
    "    print(\"Photo \",photo_number,\" is recognized as:\\t\",i)"
   ]
  },
  {
   "cell_type": "markdown",
   "metadata": {
    "id": "9Z1rLQcnCZ24"
   },
   "source": [
    "---"
   ]
  },
  {
   "cell_type": "markdown",
   "metadata": {},
   "source": [
    "<h1 style=\"color:red\"> Great ! to build a model that able to regognize a digits, needed to trained with labels(-2pt)</h1>\n"
   ]
  }
 ],
 "metadata": {
  "colab": {
   "name": "HW10 p1.ipynb",
   "provenance": []
  },
  "kernelspec": {
   "display_name": "Python 3",
   "language": "python",
   "name": "python3"
  },
  "language_info": {
   "codemirror_mode": {
    "name": "ipython",
    "version": 3
   },
   "file_extension": ".py",
   "mimetype": "text/x-python",
   "name": "python",
   "nbconvert_exporter": "python",
   "pygments_lexer": "ipython3",
   "version": "3.6.8"
  }
 },
 "nbformat": 4,
 "nbformat_minor": 1
}
