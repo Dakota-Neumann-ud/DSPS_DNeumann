{
  "nbformat": 4,
  "nbformat_minor": 0,
  "metadata": {
    "colab": {
      "name": "DSPS2021aenc_faces.ipynb",
      "provenance": []
    },
    "kernelspec": {
      "name": "python3",
      "display_name": "Python 3"
    },
    "accelerator": "GPU"
  },
  "cells": [
    {
      "cell_type": "markdown",
      "metadata": {
        "id": "tGod4GR2FMSH"
      },
      "source": [
        "author FBB for DSPS2021"
      ]
    },
    {
      "cell_type": "markdown",
      "metadata": {
        "id": "cKP3gIx3EN7_"
      },
      "source": [
        "# Autoencoder notebook \n",
        "create superresolution portraits from low resolution black and white images:\n",
        "- load a patch of images and lower the resolution\n",
        "- build an autoencoder with a bottleneck layer much smaller thn the number of pixels in an image\n",
        "- pass the lower resolution images as imput and the higher resolution images as output\n",
        "- ask the encoder to predict high resolution images from low resolution ones\n",
        "- test it on a headshot of yourself"
      ]
    },
    {
      "cell_type": "code",
      "metadata": {
        "id": "PS9BF8xoAaBJ",
        "colab": {
          "base_uri": "https://localhost:8080/"
        },
        "outputId": "2cc661bf-95b0-4a3c-bb7e-643a91219eca"
      },
      "source": [
        "from google.colab import drive\n",
        "\n",
        "drive.mount(\"/content/gdrive\")\n"
      ],
      "execution_count": 2,
      "outputs": [
        {
          "output_type": "stream",
          "name": "stdout",
          "text": [
            "Mounted at /content/gdrive\n"
          ]
        }
      ]
    },
    {
      "cell_type": "code",
      "metadata": {
        "id": "ka6VAkT6DZHM"
      },
      "source": [
        "from keras.models import Sequential\n",
        "from keras.layers import Dense#, Dropout, Flatten\n",
        "#from keras.layers import Conv2D, MaxPooling2D\n",
        "from keras import backend as K\n"
      ],
      "execution_count": 3,
      "outputs": []
    },
    {
      "cell_type": "code",
      "metadata": {
        "id": "RVJyom6NZbaP",
        "colab": {
          "base_uri": "https://localhost:8080/"
        },
        "outputId": "3b75eb79-6e42-4afb-8924-4246128f6de7"
      },
      "source": [
        "import glob\n",
        "import h5py\n",
        "from PIL import Image\n",
        "import numpy as np\n",
        "import pylab as pl\n",
        "%pylab inline"
      ],
      "execution_count": 4,
      "outputs": [
        {
          "output_type": "stream",
          "name": "stdout",
          "text": [
            "Populating the interactive namespace from numpy and matplotlib\n"
          ]
        }
      ]
    },
    {
      "cell_type": "code",
      "metadata": {
        "id": "yJwQjk5zHsko",
        "colab": {
          "base_uri": "https://localhost:8080/"
        },
        "outputId": "585509b7-d3ae-486e-f424-a863f40122fd"
      },
      "source": [
        "cd /content/gdrive/Shareddrives/\n"
      ],
      "execution_count": 5,
      "outputs": [
        {
          "output_type": "stream",
          "name": "stdout",
          "text": [
            "/content/gdrive/Shareddrives\n"
          ]
        }
      ]
    },
    {
      "cell_type": "code",
      "metadata": {
        "id": "UIcrN-B8Hi-H",
        "colab": {
          "base_uri": "https://localhost:8080/"
        },
        "outputId": "88eb3b69-6c8a-4cf7-ddab-eecd22e334ef"
      },
      "source": [
        "ls"
      ],
      "execution_count": 6,
      "outputs": [
        {
          "output_type": "stream",
          "name": "stdout",
          "text": [
            "\u001b[0m\u001b[01;34mDSPS2021\u001b[0m/\n"
          ]
        }
      ]
    },
    {
      "cell_type": "code",
      "metadata": {
        "colab": {
          "base_uri": "https://localhost:8080/"
        },
        "id": "JwWaYkNAaDbp",
        "outputId": "2e0f9a5f-d1f0-4037-ae31-cc90e3acb40b"
      },
      "source": [
        "cd  DSPS2021/"
      ],
      "execution_count": 7,
      "outputs": [
        {
          "output_type": "stream",
          "name": "stdout",
          "text": [
            "/content/gdrive/Shareddrives/DSPS2021\n"
          ]
        }
      ]
    },
    {
      "cell_type": "code",
      "source": [
        "ls"
      ],
      "metadata": {
        "id": "st1CzcKHOy7m",
        "outputId": "6e9e16dc-8f2a-451d-9ffd-2347a3f925f3",
        "colab": {
          "base_uri": "https://localhost:8080/"
        }
      },
      "execution_count": 48,
      "outputs": [
        {
          "output_type": "stream",
          "name": "stdout",
          "text": [
            "10802534_761689917241346_821292660_n.jpg  \u001b[0m\u001b[01;34mdata\u001b[0m/\n",
            "ak0.png                                   galaxies.npy\n",
            "ak1.png                                   \u001b[01;34mhiggsb\u001b[0m/\n",
            "ak2.png                                   images_test_rev1.zip\n",
            "ak3.png                                   \u001b[01;34mimages_training_rev1\u001b[0m/\n",
            "ak4.png                                   images_training_rev1.zip\n",
            "all_ones_benchmark.zip                    imgreconstruct_10000.h5\n",
            "all_zeros_benchmark.zip                   \u001b[01;34mkaggleTitanic\u001b[0m/\n",
            "central_pixel_benchmark.zip               \u001b[01;34mnyzipcodes\u001b[0m/\n",
            "checkpoint                                training_solutions_rev1.csv\n",
            "checkpointConv..data-00000-of-00001       training_solutions_rev1.zip\n",
            "checkpointConv..index                     uo_img.jpg\n"
          ]
        }
      ]
    },
    {
      "cell_type": "markdown",
      "metadata": {
        "id": "F56R_CzCZfpu"
      },
      "source": [
        "# 1A  (661) load head shots from known training data - skip to 1B to load images already read in\n",
        "The first time you will need to dowbload faces95.zip. Uncomment the 2 lines of code below"
      ]
    },
    {
      "cell_type": "code",
      "metadata": {
        "id": "dRV0Y1k3I5F_"
      },
      "source": [
        "# this link no longer works due to the backlash of the algorithm that whitened Obama\n",
        "# but I saved the data in our shared drive\n",
        "#!wget http://www.cl.cam.ac.uk/Research/DTG/attarchive/pub/data/att_faces.zip\n"
      ],
      "execution_count": null,
      "outputs": []
    },
    {
      "cell_type": "code",
      "metadata": {
        "id": "K2-EXkwUGVlA"
      },
      "source": [
        "#!unzip faces95.zip"
      ],
      "execution_count": null,
      "outputs": []
    },
    {
      "cell_type": "code",
      "metadata": {
        "id": "_PBLU_0kGVgW",
        "colab": {
          "base_uri": "https://localhost:8080/"
        },
        "outputId": "85309ec2-df86-486e-affa-c63415105ba7"
      },
      "source": [
        "!ls data/faces95/*jpg"
      ],
      "execution_count": null,
      "outputs": [
        {
          "output_type": "stream",
          "name": "stdout",
          "text": [
            "data/faces95/adhast.10.jpg  data/faces95/llambr.10.jpg\n",
            "data/faces95/adhast.11.jpg  data/faces95/llambr.11.jpg\n",
            "data/faces95/adhast.12.jpg  data/faces95/llambr.12.jpg\n",
            "data/faces95/adhast.13.jpg  data/faces95/llambr.13.jpg\n",
            "data/faces95/adhast.14.jpg  data/faces95/llambr.14.jpg\n",
            "data/faces95/adhast.15.jpg  data/faces95/llambr.15.jpg\n",
            "data/faces95/adhast.16.jpg  data/faces95/llambr.16.jpg\n",
            "data/faces95/adhast.17.jpg  data/faces95/llambr.17.jpg\n",
            "data/faces95/adhast.18.jpg  data/faces95/llambr.18.jpg\n",
            "data/faces95/adhast.19.jpg  data/faces95/llambr.19.jpg\n",
            "data/faces95/adhast.1.jpg   data/faces95/llambr.1.jpg\n",
            "data/faces95/adhast.20.jpg  data/faces95/llambr.20.jpg\n",
            "data/faces95/adhast.2.jpg   data/faces95/llambr.2.jpg\n",
            "data/faces95/adhast.3.jpg   data/faces95/llambr.3.jpg\n",
            "data/faces95/adhast.4.jpg   data/faces95/llambr.4.jpg\n",
            "data/faces95/adhast.5.jpg   data/faces95/llambr.5.jpg\n",
            "data/faces95/adhast.6.jpg   data/faces95/llambr.6.jpg\n",
            "data/faces95/adhast.7.jpg   data/faces95/llambr.7.jpg\n",
            "data/faces95/adhast.8.jpg   data/faces95/llambr.8.jpg\n",
            "data/faces95/adhast.9.jpg   data/faces95/llambr.9.jpg\n",
            "data/faces95/ajbake.10.jpg  data/faces95/matth.10.jpg\n",
            "data/faces95/ajbake.11.jpg  data/faces95/matth.11.jpg\n",
            "data/faces95/ajbake.12.jpg  data/faces95/matth.12.jpg\n",
            "data/faces95/ajbake.13.jpg  data/faces95/matth.13.jpg\n",
            "data/faces95/ajbake.14.jpg  data/faces95/matth.14.jpg\n",
            "data/faces95/ajbake.15.jpg  data/faces95/matth.15.jpg\n",
            "data/faces95/ajbake.16.jpg  data/faces95/matth.16.jpg\n",
            "data/faces95/ajbake.17.jpg  data/faces95/matth.17.jpg\n",
            "data/faces95/ajbake.18.jpg  data/faces95/matth.18.jpg\n",
            "data/faces95/ajbake.19.jpg  data/faces95/matth.19.jpg\n",
            "data/faces95/ajbake.1.jpg   data/faces95/matth.1.jpg\n",
            "data/faces95/ajbake.20.jpg  data/faces95/matth.20.jpg\n",
            "data/faces95/ajbake.2.jpg   data/faces95/matth.2.jpg\n",
            "data/faces95/ajbake.3.jpg   data/faces95/matth.3.jpg\n",
            "data/faces95/ajbake.4.jpg   data/faces95/matth.4.jpg\n",
            "data/faces95/ajbake.5.jpg   data/faces95/matth.5.jpg\n",
            "data/faces95/ajbake.6.jpg   data/faces95/matth.6.jpg\n",
            "data/faces95/ajbake.7.jpg   data/faces95/matth.7.jpg\n",
            "data/faces95/ajbake.8.jpg   data/faces95/matth.8.jpg\n",
            "data/faces95/ajbake.9.jpg   data/faces95/matth.9.jpg\n",
            "data/faces95/apapou.10.jpg  data/faces95/mdchud.10.jpg\n",
            "data/faces95/apapou.11.jpg  data/faces95/mdchud.11.jpg\n",
            "data/faces95/apapou.12.jpg  data/faces95/mdchud.12.jpg\n",
            "data/faces95/apapou.13.jpg  data/faces95/mdchud.13.jpg\n",
            "data/faces95/apapou.14.jpg  data/faces95/mdchud.14.jpg\n",
            "data/faces95/apapou.15.jpg  data/faces95/mdchud.15.jpg\n",
            "data/faces95/apapou.16.jpg  data/faces95/mdchud.16.jpg\n",
            "data/faces95/apapou.17.jpg  data/faces95/mdchud.17.jpg\n",
            "data/faces95/apapou.18.jpg  data/faces95/mdchud.18.jpg\n",
            "data/faces95/apapou.19.jpg  data/faces95/mdchud.19.jpg\n",
            "data/faces95/apapou.1.jpg   data/faces95/mdchud.1.jpg\n",
            "data/faces95/apapou.20.jpg  data/faces95/mdchud.20.jpg\n",
            "data/faces95/apapou.2.jpg   data/faces95/mdchud.2.jpg\n",
            "data/faces95/apapou.3.jpg   data/faces95/mdchud.3.jpg\n",
            "data/faces95/apapou.4.jpg   data/faces95/mdchud.4.jpg\n",
            "data/faces95/apapou.5.jpg   data/faces95/mdchud.5.jpg\n",
            "data/faces95/apapou.6.jpg   data/faces95/mdchud.6.jpg\n",
            "data/faces95/apapou.7.jpg   data/faces95/mdchud.7.jpg\n",
            "data/faces95/apapou.8.jpg   data/faces95/mdchud.8.jpg\n",
            "data/faces95/apapou.9.jpg   data/faces95/mdchud.9.jpg\n",
            "data/faces95/apdavi.10.jpg  data/faces95/mizli.10.jpg\n",
            "data/faces95/apdavi.11.jpg  data/faces95/mizli.11.jpg\n",
            "data/faces95/apdavi.12.jpg  data/faces95/mizli.12.jpg\n",
            "data/faces95/apdavi.13.jpg  data/faces95/mizli.13.jpg\n",
            "data/faces95/apdavi.14.jpg  data/faces95/mizli.14.jpg\n",
            "data/faces95/apdavi.15.jpg  data/faces95/mizli.15.jpg\n",
            "data/faces95/apdavi.16.jpg  data/faces95/mizli.16.jpg\n",
            "data/faces95/apdavi.17.jpg  data/faces95/mizli.17.jpg\n",
            "data/faces95/apdavi.18.jpg  data/faces95/mizli.18.jpg\n",
            "data/faces95/apdavi.19.jpg  data/faces95/mizli.19.jpg\n",
            "data/faces95/apdavi.1.jpg   data/faces95/mizli.1.jpg\n",
            "data/faces95/apdavi.20.jpg  data/faces95/mizli.20.jpg\n",
            "data/faces95/apdavi.2.jpg   data/faces95/mizli.2.jpg\n",
            "data/faces95/apdavi.3.jpg   data/faces95/mizli.3.jpg\n",
            "data/faces95/apdavi.4.jpg   data/faces95/mizli.4.jpg\n",
            "data/faces95/apdavi.5.jpg   data/faces95/mizli.5.jpg\n",
            "data/faces95/apdavi.6.jpg   data/faces95/mizli.6.jpg\n",
            "data/faces95/apdavi.7.jpg   data/faces95/mizli.7.jpg\n",
            "data/faces95/apdavi.8.jpg   data/faces95/mizli.8.jpg\n",
            "data/faces95/apdavi.9.jpg   data/faces95/mizli.9.jpg\n",
            "data/faces95/ardper.10.jpg  data/faces95/mkosto.10.jpg\n",
            "data/faces95/ardper.11.jpg  data/faces95/mkosto.11.jpg\n",
            "data/faces95/ardper.12.jpg  data/faces95/mkosto.12.jpg\n",
            "data/faces95/ardper.13.jpg  data/faces95/mkosto.13.jpg\n",
            "data/faces95/ardper.14.jpg  data/faces95/mkosto.14.jpg\n",
            "data/faces95/ardper.15.jpg  data/faces95/mkosto.15.jpg\n",
            "data/faces95/ardper.16.jpg  data/faces95/mkosto.16.jpg\n",
            "data/faces95/ardper.17.jpg  data/faces95/mkosto.17.jpg\n",
            "data/faces95/ardper.18.jpg  data/faces95/mkosto.18.jpg\n",
            "data/faces95/ardper.19.jpg  data/faces95/mkosto.19.jpg\n",
            "data/faces95/ardper.1.jpg   data/faces95/mkosto.1.jpg\n",
            "data/faces95/ardper.20.jpg  data/faces95/mkosto.20.jpg\n",
            "data/faces95/ardper.2.jpg   data/faces95/mkosto.2.jpg\n",
            "data/faces95/ardper.3.jpg   data/faces95/mkosto.3.jpg\n",
            "data/faces95/ardper.4.jpg   data/faces95/mkosto.4.jpg\n",
            "data/faces95/ardper.5.jpg   data/faces95/mkosto.5.jpg\n",
            "data/faces95/ardper.6.jpg   data/faces95/mkosto.6.jpg\n",
            "data/faces95/ardper.7.jpg   data/faces95/mkosto.7.jpg\n",
            "data/faces95/ardper.8.jpg   data/faces95/mkosto.8.jpg\n",
            "data/faces95/ardper.9.jpg   data/faces95/mkosto.9.jpg\n",
            "data/faces95/awjsud.10.jpg  data/faces95/mrhami.10.jpg\n",
            "data/faces95/awjsud.11.jpg  data/faces95/mrhami.11.jpg\n",
            "data/faces95/awjsud.12.jpg  data/faces95/mrhami.12.jpg\n",
            "data/faces95/awjsud.13.jpg  data/faces95/mrhami.13.jpg\n",
            "data/faces95/awjsud.14.jpg  data/faces95/mrhami.14.jpg\n",
            "data/faces95/awjsud.15.jpg  data/faces95/mrhami.15.jpg\n",
            "data/faces95/awjsud.16.jpg  data/faces95/mrhami.16.jpg\n",
            "data/faces95/awjsud.17.jpg  data/faces95/mrhami.17.jpg\n",
            "data/faces95/awjsud.18.jpg  data/faces95/mrhami.18.jpg\n",
            "data/faces95/awjsud.19.jpg  data/faces95/mrhami.19.jpg\n",
            "data/faces95/awjsud.1.jpg   data/faces95/mrhami.1.jpg\n",
            "data/faces95/awjsud.20.jpg  data/faces95/mrhami.20.jpg\n",
            "data/faces95/awjsud.2.jpg   data/faces95/mrhami.2.jpg\n",
            "data/faces95/awjsud.3.jpg   data/faces95/mrhami.3.jpg\n",
            "data/faces95/awjsud.4.jpg   data/faces95/mrhami.4.jpg\n",
            "data/faces95/awjsud.5.jpg   data/faces95/mrhami.5.jpg\n",
            "data/faces95/awjsud.6.jpg   data/faces95/mrhami.6.jpg\n",
            "data/faces95/awjsud.7.jpg   data/faces95/mrhami.7.jpg\n",
            "data/faces95/awjsud.8.jpg   data/faces95/mrhami.8.jpg\n",
            "data/faces95/awjsud.9.jpg   data/faces95/mrhami.9.jpg\n",
            "data/faces95/boylee.10.jpg  data/faces95/namart.10.jpg\n",
            "data/faces95/boylee.11.jpg  data/faces95/namart.11.jpg\n",
            "data/faces95/boylee.12.jpg  data/faces95/namart.12.jpg\n",
            "data/faces95/boylee.13.jpg  data/faces95/namart.13.jpg\n",
            "data/faces95/boylee.14.jpg  data/faces95/namart.14.jpg\n",
            "data/faces95/boylee.15.jpg  data/faces95/namart.15.jpg\n",
            "data/faces95/boylee.16.jpg  data/faces95/namart.16.jpg\n",
            "data/faces95/boylee.17.jpg  data/faces95/namart.17.jpg\n",
            "data/faces95/boylee.18.jpg  data/faces95/namart.18.jpg\n",
            "data/faces95/boylee.19.jpg  data/faces95/namart.19.jpg\n",
            "data/faces95/boylee.1.jpg   data/faces95/namart.1.jpg\n",
            "data/faces95/boylee.20.jpg  data/faces95/namart.20.jpg\n",
            "data/faces95/boylee.2.jpg   data/faces95/namart.2.jpg\n",
            "data/faces95/boylee.3.jpg   data/faces95/namart.3.jpg\n",
            "data/faces95/boylee.4.jpg   data/faces95/namart.4.jpg\n",
            "data/faces95/boylee.5.jpg   data/faces95/namart.5.jpg\n",
            "data/faces95/boylee.6.jpg   data/faces95/namart.6.jpg\n",
            "data/faces95/boylee.7.jpg   data/faces95/namart.7.jpg\n",
            "data/faces95/boylee.8.jpg   data/faces95/namart.8.jpg\n",
            "data/faces95/boylee.9.jpg   data/faces95/namart.9.jpg\n",
            "data/faces95/bschap.10.jpg  data/faces95/ogefen.10.jpg\n",
            "data/faces95/bschap.11.jpg  data/faces95/ogefen.11.jpg\n",
            "data/faces95/bschap.12.jpg  data/faces95/ogefen.12.jpg\n",
            "data/faces95/bschap.13.jpg  data/faces95/ogefen.13.jpg\n",
            "data/faces95/bschap.14.jpg  data/faces95/ogefen.14.jpg\n",
            "data/faces95/bschap.15.jpg  data/faces95/ogefen.15.jpg\n",
            "data/faces95/bschap.16.jpg  data/faces95/ogefen.16.jpg\n",
            "data/faces95/bschap.17.jpg  data/faces95/ogefen.17.jpg\n",
            "data/faces95/bschap.18.jpg  data/faces95/ogefen.18.jpg\n",
            "data/faces95/bschap.19.jpg  data/faces95/ogefen.19.jpg\n",
            "data/faces95/bschap.1.jpg   data/faces95/ogefen.1.jpg\n",
            "data/faces95/bschap.20.jpg  data/faces95/ogefen.20.jpg\n",
            "data/faces95/bschap.2.jpg   data/faces95/ogefen.2.jpg\n",
            "data/faces95/bschap.3.jpg   data/faces95/ogefen.3.jpg\n",
            "data/faces95/bschap.4.jpg   data/faces95/ogefen.4.jpg\n",
            "data/faces95/bschap.5.jpg   data/faces95/ogefen.5.jpg\n",
            "data/faces95/bschap.6.jpg   data/faces95/ogefen.6.jpg\n",
            "data/faces95/bschap.7.jpg   data/faces95/ogefen.7.jpg\n",
            "data/faces95/bschap.8.jpg   data/faces95/ogefen.8.jpg\n",
            "data/faces95/bschap.9.jpg   data/faces95/ogefen.9.jpg\n",
            "data/faces95/cadugd.10.jpg  data/faces95/padnor.10.jpg\n",
            "data/faces95/cadugd.11.jpg  data/faces95/padnor.11.jpg\n",
            "data/faces95/cadugd.12.jpg  data/faces95/padnor.12.jpg\n",
            "data/faces95/cadugd.13.jpg  data/faces95/padnor.13.jpg\n",
            "data/faces95/cadugd.14.jpg  data/faces95/padnor.14.jpg\n",
            "data/faces95/cadugd.15.jpg  data/faces95/padnor.15.jpg\n",
            "data/faces95/cadugd.16.jpg  data/faces95/padnor.16.jpg\n",
            "data/faces95/cadugd.17.jpg  data/faces95/padnor.17.jpg\n",
            "data/faces95/cadugd.18.jpg  data/faces95/padnor.18.jpg\n",
            "data/faces95/cadugd.19.jpg  data/faces95/padnor.19.jpg\n",
            "data/faces95/cadugd.1.jpg   data/faces95/padnor.1.jpg\n",
            "data/faces95/cadugd.20.jpg  data/faces95/padnor.20.jpg\n",
            "data/faces95/cadugd.2.jpg   data/faces95/padnor.2.jpg\n",
            "data/faces95/cadugd.3.jpg   data/faces95/padnor.3.jpg\n",
            "data/faces95/cadugd.4.jpg   data/faces95/padnor.4.jpg\n",
            "data/faces95/cadugd.5.jpg   data/faces95/padnor.5.jpg\n",
            "data/faces95/cadugd.6.jpg   data/faces95/padnor.6.jpg\n",
            "data/faces95/cadugd.7.jpg   data/faces95/padnor.7.jpg\n",
            "data/faces95/cadugd.8.jpg   data/faces95/padnor.8.jpg\n",
            "data/faces95/cadugd.9.jpg   data/faces95/padnor.9.jpg\n",
            "data/faces95/cdlarg.10.jpg  data/faces95/pajaco.10.jpg\n",
            "data/faces95/cdlarg.11.jpg  data/faces95/pajaco.11.jpg\n",
            "data/faces95/cdlarg.12.jpg  data/faces95/pajaco.12.jpg\n",
            "data/faces95/cdlarg.13.jpg  data/faces95/pajaco.13.jpg\n",
            "data/faces95/cdlarg.14.jpg  data/faces95/pajaco.14.jpg\n",
            "data/faces95/cdlarg.15.jpg  data/faces95/pajaco.15.jpg\n",
            "data/faces95/cdlarg.16.jpg  data/faces95/pajaco.16.jpg\n",
            "data/faces95/cdlarg.17.jpg  data/faces95/pajaco.17.jpg\n",
            "data/faces95/cdlarg.18.jpg  data/faces95/pajaco.18.jpg\n",
            "data/faces95/cdlarg.19.jpg  data/faces95/pajaco.19.jpg\n",
            "data/faces95/cdlarg.1.jpg   data/faces95/pajaco.1.jpg\n",
            "data/faces95/cdlarg.20.jpg  data/faces95/pajaco.20.jpg\n",
            "data/faces95/cdlarg.2.jpg   data/faces95/pajaco.2.jpg\n",
            "data/faces95/cdlarg.3.jpg   data/faces95/pajaco.3.jpg\n",
            "data/faces95/cdlarg.4.jpg   data/faces95/pajaco.4.jpg\n",
            "data/faces95/cdlarg.5.jpg   data/faces95/pajaco.5.jpg\n",
            "data/faces95/cdlarg.6.jpg   data/faces95/pajaco.6.jpg\n",
            "data/faces95/cdlarg.7.jpg   data/faces95/pajaco.7.jpg\n",
            "data/faces95/cdlarg.8.jpg   data/faces95/pajaco.8.jpg\n",
            "data/faces95/cdlarg.9.jpg   data/faces95/pajaco.9.jpg\n",
            "data/faces95/cfloro.10.jpg  data/faces95/papad.10.jpg\n",
            "data/faces95/cfloro.11.jpg  data/faces95/papad.11.jpg\n",
            "data/faces95/cfloro.12.jpg  data/faces95/papad.12.jpg\n",
            "data/faces95/cfloro.13.jpg  data/faces95/papad.13.jpg\n",
            "data/faces95/cfloro.14.jpg  data/faces95/papad.14.jpg\n",
            "data/faces95/cfloro.15.jpg  data/faces95/papad.15.jpg\n",
            "data/faces95/cfloro.16.jpg  data/faces95/papad.16.jpg\n",
            "data/faces95/cfloro.17.jpg  data/faces95/papad.17.jpg\n",
            "data/faces95/cfloro.18.jpg  data/faces95/papad.18.jpg\n",
            "data/faces95/cfloro.19.jpg  data/faces95/papad.19.jpg\n",
            "data/faces95/cfloro.1.jpg   data/faces95/papad.1.jpg\n",
            "data/faces95/cfloro.20.jpg  data/faces95/papad.20.jpg\n",
            "data/faces95/cfloro.2.jpg   data/faces95/papad.2.jpg\n",
            "data/faces95/cfloro.3.jpg   data/faces95/papad.3.jpg\n",
            "data/faces95/cfloro.4.jpg   data/faces95/papad.4.jpg\n",
            "data/faces95/cfloro.5.jpg   data/faces95/papad.5.jpg\n",
            "data/faces95/cfloro.6.jpg   data/faces95/papad.6.jpg\n",
            "data/faces95/cfloro.7.jpg   data/faces95/papad.7.jpg\n",
            "data/faces95/cfloro.8.jpg   data/faces95/papad.8.jpg\n",
            "data/faces95/cfloro.9.jpg   data/faces95/papad.9.jpg\n",
            "data/faces95/cladam.10.jpg  data/faces95/pcfry.10.jpg\n",
            "data/faces95/cladam.11.jpg  data/faces95/pcfry.11.jpg\n",
            "data/faces95/cladam.12.jpg  data/faces95/pcfry.12.jpg\n",
            "data/faces95/cladam.13.jpg  data/faces95/pcfry.13.jpg\n",
            "data/faces95/cladam.14.jpg  data/faces95/pcfry.14.jpg\n",
            "data/faces95/cladam.15.jpg  data/faces95/pcfry.15.jpg\n",
            "data/faces95/cladam.16.jpg  data/faces95/pcfry.16.jpg\n",
            "data/faces95/cladam.17.jpg  data/faces95/pcfry.17.jpg\n",
            "data/faces95/cladam.18.jpg  data/faces95/pcfry.18.jpg\n",
            "data/faces95/cladam.19.jpg  data/faces95/pcfry.19.jpg\n",
            "data/faces95/cladam.1.jpg   data/faces95/pcfry.1.jpg\n",
            "data/faces95/cladam.20.jpg  data/faces95/pcfry.20.jpg\n",
            "data/faces95/cladam.2.jpg   data/faces95/pcfry.2.jpg\n",
            "data/faces95/cladam.3.jpg   data/faces95/pcfry.3.jpg\n",
            "data/faces95/cladam.4.jpg   data/faces95/pcfry.4.jpg\n",
            "data/faces95/cladam.5.jpg   data/faces95/pcfry.5.jpg\n",
            "data/faces95/cladam.6.jpg   data/faces95/pcfry.6.jpg\n",
            "data/faces95/cladam.7.jpg   data/faces95/pcfry.7.jpg\n",
            "data/faces95/cladam.8.jpg   data/faces95/pcfry.8.jpg\n",
            "data/faces95/cladam.9.jpg   data/faces95/pcfry.9.jpg\n",
            "data/faces95/cywan.10.jpg   data/faces95/pears.10.jpg\n",
            "data/faces95/cywan.11.jpg   data/faces95/pears.11.jpg\n",
            "data/faces95/cywan.12.jpg   data/faces95/pears.12.jpg\n",
            "data/faces95/cywan.13.jpg   data/faces95/pears.13.jpg\n",
            "data/faces95/cywan.14.jpg   data/faces95/pears.14.jpg\n",
            "data/faces95/cywan.15.jpg   data/faces95/pears.15.jpg\n",
            "data/faces95/cywan.16.jpg   data/faces95/pears.16.jpg\n",
            "data/faces95/cywan.17.jpg   data/faces95/pears.17.jpg\n",
            "data/faces95/cywan.18.jpg   data/faces95/pears.18.jpg\n",
            "data/faces95/cywan.19.jpg   data/faces95/pears.19.jpg\n",
            "data/faces95/cywan.1.jpg    data/faces95/pears.1.jpg\n",
            "data/faces95/cywan.20.jpg   data/faces95/pears.20.jpg\n",
            "data/faces95/cywan.2.jpg    data/faces95/pears.2.jpg\n",
            "data/faces95/cywan.3.jpg    data/faces95/pears.3.jpg\n",
            "data/faces95/cywan.4.jpg    data/faces95/pears.4.jpg\n",
            "data/faces95/cywan.5.jpg    data/faces95/pears.5.jpg\n",
            "data/faces95/cywan.6.jpg    data/faces95/pears.6.jpg\n",
            "data/faces95/cywan.7.jpg    data/faces95/pears.7.jpg\n",
            "data/faces95/cywan.8.jpg    data/faces95/pears.8.jpg\n",
            "data/faces95/cywan.9.jpg    data/faces95/pears.9.jpg\n",
            "data/faces95/dakram.10.jpg  data/faces95/pjrand.10.jpg\n",
            "data/faces95/dakram.11.jpg  data/faces95/pjrand.11.jpg\n",
            "data/faces95/dakram.12.jpg  data/faces95/pjrand.12.jpg\n",
            "data/faces95/dakram.13.jpg  data/faces95/pjrand.13.jpg\n",
            "data/faces95/dakram.14.jpg  data/faces95/pjrand.14.jpg\n",
            "data/faces95/dakram.15.jpg  data/faces95/pjrand.15.jpg\n",
            "data/faces95/dakram.16.jpg  data/faces95/pjrand.16.jpg\n",
            "data/faces95/dakram.17.jpg  data/faces95/pjrand.17.jpg\n",
            "data/faces95/dakram.18.jpg  data/faces95/pjrand.18.jpg\n",
            "data/faces95/dakram.19.jpg  data/faces95/pjrand.19.jpg\n",
            "data/faces95/dakram.1.jpg   data/faces95/pjrand.1.jpg\n",
            "data/faces95/dakram.20.jpg  data/faces95/pjrand.20.jpg\n",
            "data/faces95/dakram.2.jpg   data/faces95/pjrand.2.jpg\n",
            "data/faces95/dakram.3.jpg   data/faces95/pjrand.3.jpg\n",
            "data/faces95/dakram.4.jpg   data/faces95/pjrand.4.jpg\n",
            "data/faces95/dakram.5.jpg   data/faces95/pjrand.5.jpg\n",
            "data/faces95/dakram.6.jpg   data/faces95/pjrand.6.jpg\n",
            "data/faces95/dakram.7.jpg   data/faces95/pjrand.7.jpg\n",
            "data/faces95/dakram.8.jpg   data/faces95/pjrand.8.jpg\n",
            "data/faces95/dakram.9.jpg   data/faces95/pjrand.9.jpg\n",
            "data/faces95/damvo.10.jpg   data/faces95/rafox.10.jpg\n",
            "data/faces95/damvo.11.jpg   data/faces95/rafox.11.jpg\n",
            "data/faces95/damvo.12.jpg   data/faces95/rafox.12.jpg\n",
            "data/faces95/damvo.13.jpg   data/faces95/rafox.13.jpg\n",
            "data/faces95/damvo.14.jpg   data/faces95/rafox.14.jpg\n",
            "data/faces95/damvo.15.jpg   data/faces95/rafox.15.jpg\n",
            "data/faces95/damvo.16.jpg   data/faces95/rafox.16.jpg\n",
            "data/faces95/damvo.17.jpg   data/faces95/rafox.17.jpg\n",
            "data/faces95/damvo.18.jpg   data/faces95/rafox.18.jpg\n",
            "data/faces95/damvo.19.jpg   data/faces95/rafox.19.jpg\n",
            "data/faces95/damvo.1.jpg    data/faces95/rafox.1.jpg\n",
            "data/faces95/damvo.20.jpg   data/faces95/rafox.20.jpg\n",
            "data/faces95/damvo.2.jpg    data/faces95/rafox.2.jpg\n",
            "data/faces95/damvo.3.jpg    data/faces95/rafox.3.jpg\n",
            "data/faces95/damvo.4.jpg    data/faces95/rafox.4.jpg\n",
            "data/faces95/damvo.5.jpg    data/faces95/rafox.5.jpg\n",
            "data/faces95/damvo.6.jpg    data/faces95/rafox.6.jpg\n",
            "data/faces95/damvo.7.jpg    data/faces95/rafox.7.jpg\n",
            "data/faces95/damvo.8.jpg    data/faces95/rafox.8.jpg\n",
            "data/faces95/damvo.9.jpg    data/faces95/rafox.9.jpg\n",
            "data/faces95/darda.10.jpg   data/faces95/rhaitk.10.jpg\n",
            "data/faces95/darda.11.jpg   data/faces95/rhaitk.11.jpg\n",
            "data/faces95/darda.12.jpg   data/faces95/rhaitk.12.jpg\n",
            "data/faces95/darda.13.jpg   data/faces95/rhaitk.13.jpg\n",
            "data/faces95/darda.14.jpg   data/faces95/rhaitk.14.jpg\n",
            "data/faces95/darda.15.jpg   data/faces95/rhaitk.15.jpg\n",
            "data/faces95/darda.16.jpg   data/faces95/rhaitk.16.jpg\n",
            "data/faces95/darda.17.jpg   data/faces95/rhaitk.17.jpg\n",
            "data/faces95/darda.18.jpg   data/faces95/rhaitk.18.jpg\n",
            "data/faces95/darda.19.jpg   data/faces95/rhaitk.19.jpg\n",
            "data/faces95/darda.1.jpg    data/faces95/rhaitk.1.jpg\n",
            "data/faces95/darda.20.jpg   data/faces95/rhaitk.20.jpg\n",
            "data/faces95/darda.2.jpg    data/faces95/rhaitk.2.jpg\n",
            "data/faces95/darda.3.jpg    data/faces95/rhaitk.3.jpg\n",
            "data/faces95/darda.4.jpg    data/faces95/rhaitk.4.jpg\n",
            "data/faces95/darda.5.jpg    data/faces95/rhaitk.5.jpg\n",
            "data/faces95/darda.6.jpg    data/faces95/rhaitk.6.jpg\n",
            "data/faces95/darda.7.jpg    data/faces95/rhaitk.7.jpg\n",
            "data/faces95/darda.8.jpg    data/faces95/rhaitk.8.jpg\n",
            "data/faces95/darda.9.jpg    data/faces95/rhaitk.9.jpg\n",
            "data/faces95/dfhodd.10.jpg  data/faces95/rhnorm.10.jpg\n",
            "data/faces95/dfhodd.11.jpg  data/faces95/rhnorm.11.jpg\n",
            "data/faces95/dfhodd.12.jpg  data/faces95/rhnorm.12.jpg\n",
            "data/faces95/dfhodd.13.jpg  data/faces95/rhnorm.13.jpg\n",
            "data/faces95/dfhodd.14.jpg  data/faces95/rhnorm.14.jpg\n",
            "data/faces95/dfhodd.15.jpg  data/faces95/rhnorm.15.jpg\n",
            "data/faces95/dfhodd.16.jpg  data/faces95/rhnorm.16.jpg\n",
            "data/faces95/dfhodd.17.jpg  data/faces95/rhnorm.17.jpg\n",
            "data/faces95/dfhodd.18.jpg  data/faces95/rhnorm.18.jpg\n",
            "data/faces95/dfhodd.19.jpg  data/faces95/rhnorm.19.jpg\n",
            "data/faces95/dfhodd.1.jpg   data/faces95/rhnorm.1.jpg\n",
            "data/faces95/dfhodd.20.jpg  data/faces95/rhnorm.20.jpg\n",
            "data/faces95/dfhodd.2.jpg   data/faces95/rhnorm.2.jpg\n",
            "data/faces95/dfhodd.3.jpg   data/faces95/rhnorm.3.jpg\n",
            "data/faces95/dfhodd.4.jpg   data/faces95/rhnorm.4.jpg\n",
            "data/faces95/dfhodd.5.jpg   data/faces95/rhnorm.5.jpg\n",
            "data/faces95/dfhodd.6.jpg   data/faces95/rhnorm.6.jpg\n",
            "data/faces95/dfhodd.7.jpg   data/faces95/rhnorm.7.jpg\n",
            "data/faces95/dfhodd.8.jpg   data/faces95/rhnorm.8.jpg\n",
            "data/faces95/dfhodd.9.jpg   data/faces95/rhnorm.9.jpg\n",
            "data/faces95/dgemen.10.jpg  data/faces95/riphil.10.jpg\n",
            "data/faces95/dgemen.11.jpg  data/faces95/riphil.11.jpg\n",
            "data/faces95/dgemen.12.jpg  data/faces95/riphil.12.jpg\n",
            "data/faces95/dgemen.13.jpg  data/faces95/riphil.13.jpg\n",
            "data/faces95/dgemen.14.jpg  data/faces95/riphil.14.jpg\n",
            "data/faces95/dgemen.15.jpg  data/faces95/riphil.15.jpg\n",
            "data/faces95/dgemen.16.jpg  data/faces95/riphil.16.jpg\n",
            "data/faces95/dgemen.17.jpg  data/faces95/riphil.17.jpg\n",
            "data/faces95/dgemen.18.jpg  data/faces95/riphil.18.jpg\n",
            "data/faces95/dgemen.19.jpg  data/faces95/riphil.19.jpg\n",
            "data/faces95/dgemen.1.jpg   data/faces95/riphil.1.jpg\n",
            "data/faces95/dgemen.20.jpg  data/faces95/riphil.20.jpg\n",
            "data/faces95/dgemen.2.jpg   data/faces95/riphil.2.jpg\n",
            "data/faces95/dgemen.3.jpg   data/faces95/riphil.3.jpg\n",
            "data/faces95/dgemen.4.jpg   data/faces95/riphil.4.jpg\n",
            "data/faces95/dgemen.5.jpg   data/faces95/riphil.5.jpg\n",
            "data/faces95/dgemen.6.jpg   data/faces95/riphil.6.jpg\n",
            "data/faces95/dgemen.7.jpg   data/faces95/riphil.7.jpg\n",
            "data/faces95/dgemen.8.jpg   data/faces95/riphil.8.jpg\n",
            "data/faces95/dgemen.9.jpg   data/faces95/riphil.9.jpg\n",
            "data/faces95/gsmall.10.jpg  data/faces95/rjdunc.10.jpg\n",
            "data/faces95/gsmall.11.jpg  data/faces95/rjdunc.11.jpg\n",
            "data/faces95/gsmall.12.jpg  data/faces95/rjdunc.12.jpg\n",
            "data/faces95/gsmall.13.jpg  data/faces95/rjdunc.13.jpg\n",
            "data/faces95/gsmall.14.jpg  data/faces95/rjdunc.14.jpg\n",
            "data/faces95/gsmall.15.jpg  data/faces95/rjdunc.15.jpg\n",
            "data/faces95/gsmall.16.jpg  data/faces95/rjdunc.16.jpg\n",
            "data/faces95/gsmall.17.jpg  data/faces95/rjdunc.17.jpg\n",
            "data/faces95/gsmall.18.jpg  data/faces95/rjdunc.18.jpg\n",
            "data/faces95/gsmall.19.jpg  data/faces95/rjdunc.19.jpg\n",
            "data/faces95/gsmall.1.jpg   data/faces95/rjdunc.1.jpg\n",
            "data/faces95/gsmall.20.jpg  data/faces95/rjdunc.20.jpg\n",
            "data/faces95/gsmall.2.jpg   data/faces95/rjdunc.2.jpg\n",
            "data/faces95/gsmall.3.jpg   data/faces95/rjdunc.3.jpg\n",
            "data/faces95/gsmall.4.jpg   data/faces95/rjdunc.4.jpg\n",
            "data/faces95/gsmall.5.jpg   data/faces95/rjdunc.5.jpg\n",
            "data/faces95/gsmall.6.jpg   data/faces95/rjdunc.6.jpg\n",
            "data/faces95/gsmall.7.jpg   data/faces95/rjdunc.7.jpg\n",
            "data/faces95/gsmall.8.jpg   data/faces95/rjdunc.8.jpg\n",
            "data/faces95/gsmall.9.jpg   data/faces95/rjdunc.9.jpg\n",
            "data/faces95/gstamo.10.jpg  data/faces95/sapere.10.jpg\n",
            "data/faces95/gstamo.11.jpg  data/faces95/sapere.11.jpg\n",
            "data/faces95/gstamo.12.jpg  data/faces95/sapere.12.jpg\n",
            "data/faces95/gstamo.13.jpg  data/faces95/sapere.13.jpg\n",
            "data/faces95/gstamo.14.jpg  data/faces95/sapere.14.jpg\n",
            "data/faces95/gstamo.15.jpg  data/faces95/sapere.15.jpg\n",
            "data/faces95/gstamo.16.jpg  data/faces95/sapere.16.jpg\n",
            "data/faces95/gstamo.17.jpg  data/faces95/sapere.17.jpg\n",
            "data/faces95/gstamo.18.jpg  data/faces95/sapere.18.jpg\n",
            "data/faces95/gstamo.19.jpg  data/faces95/sapere.19.jpg\n",
            "data/faces95/gstamo.1.jpg   data/faces95/sapere.1.jpg\n",
            "data/faces95/gstamo.20.jpg  data/faces95/sapere.20.jpg\n",
            "data/faces95/gstamo.2.jpg   data/faces95/sapere.2.jpg\n",
            "data/faces95/gstamo.3.jpg   data/faces95/sapere.3.jpg\n",
            "data/faces95/gstamo.4.jpg   data/faces95/sapere.4.jpg\n",
            "data/faces95/gstamo.5.jpg   data/faces95/sapere.5.jpg\n",
            "data/faces95/gstamo.6.jpg   data/faces95/sapere.6.jpg\n",
            "data/faces95/gstamo.7.jpg   data/faces95/sapere.7.jpg\n",
            "data/faces95/gstamo.8.jpg   data/faces95/sapere.8.jpg\n",
            "data/faces95/gstamo.9.jpg   data/faces95/sapere.9.jpg\n",
            "data/faces95/gsvird.10.jpg  data/faces95/sdwall.10.jpg\n",
            "data/faces95/gsvird.11.jpg  data/faces95/sdwall.11.jpg\n",
            "data/faces95/gsvird.12.jpg  data/faces95/sdwall.12.jpg\n",
            "data/faces95/gsvird.13.jpg  data/faces95/sdwall.13.jpg\n",
            "data/faces95/gsvird.14.jpg  data/faces95/sdwall.14.jpg\n",
            "data/faces95/gsvird.15.jpg  data/faces95/sdwall.15.jpg\n",
            "data/faces95/gsvird.16.jpg  data/faces95/sdwall.16.jpg\n",
            "data/faces95/gsvird.17.jpg  data/faces95/sdwall.17.jpg\n",
            "data/faces95/gsvird.18.jpg  data/faces95/sdwall.18.jpg\n",
            "data/faces95/gsvird.19.jpg  data/faces95/sdwall.19.jpg\n",
            "data/faces95/gsvird.1.jpg   data/faces95/sdwall.1.jpg\n",
            "data/faces95/gsvird.20.jpg  data/faces95/sdwall.20.jpg\n",
            "data/faces95/gsvird.2.jpg   data/faces95/sdwall.2.jpg\n",
            "data/faces95/gsvird.3.jpg   data/faces95/sdwall.3.jpg\n",
            "data/faces95/gsvird.4.jpg   data/faces95/sdwall.4.jpg\n",
            "data/faces95/gsvird.5.jpg   data/faces95/sdwall.5.jpg\n",
            "data/faces95/gsvird.6.jpg   data/faces95/sdwall.6.jpg\n",
            "data/faces95/gsvird.7.jpg   data/faces95/sdwall.7.jpg\n",
            "data/faces95/gsvird.8.jpg   data/faces95/sdwall.8.jpg\n",
            "data/faces95/gsvird.9.jpg   data/faces95/sdwall.9.jpg\n",
            "data/faces95/hcarpe.10.jpg  data/faces95/sgjday.10.jpg\n",
            "data/faces95/hcarpe.11.jpg  data/faces95/sgjday.11.jpg\n",
            "data/faces95/hcarpe.12.jpg  data/faces95/sgjday.12.jpg\n",
            "data/faces95/hcarpe.13.jpg  data/faces95/sgjday.13.jpg\n",
            "data/faces95/hcarpe.14.jpg  data/faces95/sgjday.14.jpg\n",
            "data/faces95/hcarpe.15.jpg  data/faces95/sgjday.15.jpg\n",
            "data/faces95/hcarpe.16.jpg  data/faces95/sgjday.16.jpg\n",
            "data/faces95/hcarpe.17.jpg  data/faces95/sgjday.17.jpg\n",
            "data/faces95/hcarpe.18.jpg  data/faces95/sgjday.18.jpg\n",
            "data/faces95/hcarpe.19.jpg  data/faces95/sgjday.19.jpg\n",
            "data/faces95/hcarpe.1.jpg   data/faces95/sgjday.1.jpg\n",
            "data/faces95/hcarpe.20.jpg  data/faces95/sgjday.20.jpg\n",
            "data/faces95/hcarpe.2.jpg   data/faces95/sgjday.2.jpg\n",
            "data/faces95/hcarpe.3.jpg   data/faces95/sgjday.3.jpg\n",
            "data/faces95/hcarpe.4.jpg   data/faces95/sgjday.4.jpg\n",
            "data/faces95/hcarpe.5.jpg   data/faces95/sgjday.5.jpg\n",
            "data/faces95/hcarpe.6.jpg   data/faces95/sgjday.6.jpg\n",
            "data/faces95/hcarpe.7.jpg   data/faces95/sgjday.7.jpg\n",
            "data/faces95/hcarpe.8.jpg   data/faces95/sgjday.8.jpg\n",
            "data/faces95/hcarpe.9.jpg   data/faces95/sgjday.9.jpg\n",
            "data/faces95/howar.10.jpg   data/faces95/sherbe.10.jpg\n",
            "data/faces95/howar.11.jpg   data/faces95/sherbe.11.jpg\n",
            "data/faces95/howar.12.jpg   data/faces95/sherbe.12.jpg\n",
            "data/faces95/howar.13.jpg   data/faces95/sherbe.13.jpg\n",
            "data/faces95/howar.14.jpg   data/faces95/sherbe.14.jpg\n",
            "data/faces95/howar.15.jpg   data/faces95/sherbe.15.jpg\n",
            "data/faces95/howar.16.jpg   data/faces95/sherbe.16.jpg\n",
            "data/faces95/howar.17.jpg   data/faces95/sherbe.17.jpg\n",
            "data/faces95/howar.18.jpg   data/faces95/sherbe.18.jpg\n",
            "data/faces95/howar.19.jpg   data/faces95/sherbe.19.jpg\n",
            "data/faces95/howar.1.jpg    data/faces95/sherbe.1.jpg\n",
            "data/faces95/howar.20.jpg   data/faces95/sherbe.20.jpg\n",
            "data/faces95/howar.2.jpg    data/faces95/sherbe.2.jpg\n",
            "data/faces95/howar.3.jpg    data/faces95/sherbe.3.jpg\n",
            "data/faces95/howar.4.jpg    data/faces95/sherbe.4.jpg\n",
            "data/faces95/howar.5.jpg    data/faces95/sherbe.5.jpg\n",
            "data/faces95/howar.6.jpg    data/faces95/sherbe.6.jpg\n",
            "data/faces95/howar.7.jpg    data/faces95/sherbe.7.jpg\n",
            "data/faces95/howar.8.jpg    data/faces95/sherbe.8.jpg\n",
            "data/faces95/howar.9.jpg    data/faces95/sherbe.9.jpg\n",
            "data/faces95/hsgrim.10.jpg  data/faces95/simm.10.jpg\n",
            "data/faces95/hsgrim.11.jpg  data/faces95/simm.11.jpg\n",
            "data/faces95/hsgrim.12.jpg  data/faces95/simm.12.jpg\n",
            "data/faces95/hsgrim.13.jpg  data/faces95/simm.13.jpg\n",
            "data/faces95/hsgrim.14.jpg  data/faces95/simm.14.jpg\n",
            "data/faces95/hsgrim.15.jpg  data/faces95/simm.15.jpg\n",
            "data/faces95/hsgrim.16.jpg  data/faces95/simm.16.jpg\n",
            "data/faces95/hsgrim.17.jpg  data/faces95/simm.17.jpg\n",
            "data/faces95/hsgrim.18.jpg  data/faces95/simm.18.jpg\n",
            "data/faces95/hsgrim.19.jpg  data/faces95/simm.19.jpg\n",
            "data/faces95/hsgrim.1.jpg   data/faces95/simm.1.jpg\n",
            "data/faces95/hsgrim.20.jpg  data/faces95/simm.20.jpg\n",
            "data/faces95/hsgrim.2.jpg   data/faces95/simm.2.jpg\n",
            "data/faces95/hsgrim.3.jpg   data/faces95/simm.3.jpg\n",
            "data/faces95/hsgrim.4.jpg   data/faces95/simm.4.jpg\n",
            "data/faces95/hsgrim.5.jpg   data/faces95/simm.5.jpg\n",
            "data/faces95/hsgrim.6.jpg   data/faces95/simm.6.jpg\n",
            "data/faces95/hsgrim.7.jpg   data/faces95/simm.7.jpg\n",
            "data/faces95/hsgrim.8.jpg   data/faces95/simm.8.jpg\n",
            "data/faces95/hsgrim.9.jpg   data/faces95/simm.9.jpg\n",
            "data/faces95/ijfran.10.jpg  data/faces95/sirmcb.10.jpg\n",
            "data/faces95/ijfran.11.jpg  data/faces95/sirmcb.11.jpg\n",
            "data/faces95/ijfran.12.jpg  data/faces95/sirmcb.12.jpg\n",
            "data/faces95/ijfran.13.jpg  data/faces95/sirmcb.13.jpg\n",
            "data/faces95/ijfran.14.jpg  data/faces95/sirmcb.14.jpg\n",
            "data/faces95/ijfran.15.jpg  data/faces95/sirmcb.15.jpg\n",
            "data/faces95/ijfran.16.jpg  data/faces95/sirmcb.16.jpg\n",
            "data/faces95/ijfran.17.jpg  data/faces95/sirmcb.17.jpg\n",
            "data/faces95/ijfran.18.jpg  data/faces95/sirmcb.18.jpg\n",
            "data/faces95/ijfran.19.jpg  data/faces95/sirmcb.19.jpg\n",
            "data/faces95/ijfran.1.jpg   data/faces95/sirmcb.1.jpg\n",
            "data/faces95/ijfran.20.jpg  data/faces95/sirmcb.20.jpg\n",
            "data/faces95/ijfran.2.jpg   data/faces95/sirmcb.2.jpg\n",
            "data/faces95/ijfran.3.jpg   data/faces95/sirmcb.3.jpg\n",
            "data/faces95/ijfran.4.jpg   data/faces95/sirmcb.4.jpg\n",
            "data/faces95/ijfran.5.jpg   data/faces95/sirmcb.5.jpg\n",
            "data/faces95/ijfran.6.jpg   data/faces95/sirmcb.6.jpg\n",
            "data/faces95/ijfran.7.jpg   data/faces95/sirmcb.7.jpg\n",
            "data/faces95/ijfran.8.jpg   data/faces95/sirmcb.8.jpg\n",
            "data/faces95/ijfran.9.jpg   data/faces95/sirmcb.9.jpg\n",
            "data/faces95/isbald.10.jpg  data/faces95/sjcutt.10.jpg\n",
            "data/faces95/isbald.11.jpg  data/faces95/sjcutt.11.jpg\n",
            "data/faces95/isbald.12.jpg  data/faces95/sjcutt.12.jpg\n",
            "data/faces95/isbald.13.jpg  data/faces95/sjcutt.13.jpg\n",
            "data/faces95/isbald.14.jpg  data/faces95/sjcutt.14.jpg\n",
            "data/faces95/isbald.15.jpg  data/faces95/sjcutt.15.jpg\n",
            "data/faces95/isbald.16.jpg  data/faces95/sjcutt.16.jpg\n",
            "data/faces95/isbald.17.jpg  data/faces95/sjcutt.17.jpg\n",
            "data/faces95/isbald.18.jpg  data/faces95/sjcutt.18.jpg\n",
            "data/faces95/isbald.19.jpg  data/faces95/sjcutt.19.jpg\n",
            "data/faces95/isbald.1.jpg   data/faces95/sjcutt.1.jpg\n",
            "data/faces95/isbald.20.jpg  data/faces95/sjcutt.20.jpg\n",
            "data/faces95/isbald.2.jpg   data/faces95/sjcutt.2.jpg\n",
            "data/faces95/isbald.3.jpg   data/faces95/sjcutt.3.jpg\n",
            "data/faces95/isbald.4.jpg   data/faces95/sjcutt.4.jpg\n",
            "data/faces95/isbald.5.jpg   data/faces95/sjcutt.5.jpg\n",
            "data/faces95/isbald.6.jpg   data/faces95/sjcutt.6.jpg\n",
            "data/faces95/isbald.7.jpg   data/faces95/sjcutt.7.jpg\n",
            "data/faces95/isbald.8.jpg   data/faces95/sjcutt.8.jpg\n",
            "data/faces95/isbald.9.jpg   data/faces95/sjcutt.9.jpg\n",
            "data/faces95/jbierl.10.jpg  data/faces95/sjkill.10.jpg\n",
            "data/faces95/jbierl.11.jpg  data/faces95/sjkill.11.jpg\n",
            "data/faces95/jbierl.12.jpg  data/faces95/sjkill.12.jpg\n",
            "data/faces95/jbierl.13.jpg  data/faces95/sjkill.13.jpg\n",
            "data/faces95/jbierl.14.jpg  data/faces95/sjkill.14.jpg\n",
            "data/faces95/jbierl.15.jpg  data/faces95/sjkill.15.jpg\n",
            "data/faces95/jbierl.16.jpg  data/faces95/sjkill.16.jpg\n",
            "data/faces95/jbierl.17.jpg  data/faces95/sjkill.17.jpg\n",
            "data/faces95/jbierl.18.jpg  data/faces95/sjkill.18.jpg\n",
            "data/faces95/jbierl.19.jpg  data/faces95/sjkill.19.jpg\n",
            "data/faces95/jbierl.1.jpg   data/faces95/sjkill.1.jpg\n",
            "data/faces95/jbierl.20.jpg  data/faces95/sjkill.20.jpg\n",
            "data/faces95/jbierl.2.jpg   data/faces95/sjkill.2.jpg\n",
            "data/faces95/jbierl.3.jpg   data/faces95/sjkill.3.jpg\n",
            "data/faces95/jbierl.4.jpg   data/faces95/sjkill.4.jpg\n",
            "data/faces95/jbierl.5.jpg   data/faces95/sjkill.5.jpg\n",
            "data/faces95/jbierl.6.jpg   data/faces95/sjkill.6.jpg\n",
            "data/faces95/jbierl.7.jpg   data/faces95/sjkill.7.jpg\n",
            "data/faces95/jbierl.8.jpg   data/faces95/sjkill.8.jpg\n",
            "data/faces95/jbierl.9.jpg   data/faces95/sjkill.9.jpg\n",
            "data/faces95/jross.10.jpg   data/faces95/sjpalm.10.jpg\n",
            "data/faces95/jross.11.jpg   data/faces95/sjpalm.11.jpg\n",
            "data/faces95/jross.12.jpg   data/faces95/sjpalm.12.jpg\n",
            "data/faces95/jross.13.jpg   data/faces95/sjpalm.13.jpg\n",
            "data/faces95/jross.14.jpg   data/faces95/sjpalm.14.jpg\n",
            "data/faces95/jross.15.jpg   data/faces95/sjpalm.15.jpg\n",
            "data/faces95/jross.16.jpg   data/faces95/sjpalm.16.jpg\n",
            "data/faces95/jross.17.jpg   data/faces95/sjpalm.17.jpg\n",
            "data/faces95/jross.18.jpg   data/faces95/sjpalm.18.jpg\n",
            "data/faces95/jross.19.jpg   data/faces95/sjpalm.19.jpg\n",
            "data/faces95/jross.1.jpg    data/faces95/sjpalm.1.jpg\n",
            "data/faces95/jross.20.jpg   data/faces95/sjpalm.20.jpg\n",
            "data/faces95/jross.2.jpg    data/faces95/sjpalm.2.jpg\n",
            "data/faces95/jross.3.jpg    data/faces95/sjpalm.3.jpg\n",
            "data/faces95/jross.4.jpg    data/faces95/sjpalm.4.jpg\n",
            "data/faces95/jross.5.jpg    data/faces95/sjpalm.5.jpg\n",
            "data/faces95/jross.6.jpg    data/faces95/sjpalm.6.jpg\n",
            "data/faces95/jross.7.jpg    data/faces95/sjpalm.7.jpg\n",
            "data/faces95/jross.8.jpg    data/faces95/sjpalm.8.jpg\n",
            "data/faces95/jross.9.jpg    data/faces95/sjpalm.9.jpg\n",
            "data/faces95/jserai.10.jpg  data/faces95/smille.10.jpg\n",
            "data/faces95/jserai.11.jpg  data/faces95/smille.11.jpg\n",
            "data/faces95/jserai.12.jpg  data/faces95/smille.12.jpg\n",
            "data/faces95/jserai.13.jpg  data/faces95/smille.13.jpg\n",
            "data/faces95/jserai.14.jpg  data/faces95/smille.14.jpg\n",
            "data/faces95/jserai.15.jpg  data/faces95/smille.15.jpg\n",
            "data/faces95/jserai.16.jpg  data/faces95/smille.16.jpg\n",
            "data/faces95/jserai.17.jpg  data/faces95/smille.17.jpg\n",
            "data/faces95/jserai.18.jpg  data/faces95/smille.18.jpg\n",
            "data/faces95/jserai.19.jpg  data/faces95/smille.19.jpg\n",
            "data/faces95/jserai.1.jpg   data/faces95/smille.1.jpg\n",
            "data/faces95/jserai.20.jpg  data/faces95/smille.20.jpg\n",
            "data/faces95/jserai.2.jpg   data/faces95/smille.2.jpg\n",
            "data/faces95/jserai.3.jpg   data/faces95/smille.3.jpg\n",
            "data/faces95/jserai.4.jpg   data/faces95/smille.4.jpg\n",
            "data/faces95/jserai.5.jpg   data/faces95/smille.5.jpg\n",
            "data/faces95/jserai.6.jpg   data/faces95/smille.6.jpg\n",
            "data/faces95/jserai.7.jpg   data/faces95/smille.7.jpg\n",
            "data/faces95/jserai.8.jpg   data/faces95/smille.8.jpg\n",
            "data/faces95/jserai.9.jpg   data/faces95/smille.9.jpg\n",
            "data/faces95/jshea.10.jpg   data/faces95/theoc.10.jpg\n",
            "data/faces95/jshea.11.jpg   data/faces95/theoc.11.jpg\n",
            "data/faces95/jshea.12.jpg   data/faces95/theoc.12.jpg\n",
            "data/faces95/jshea.13.jpg   data/faces95/theoc.13.jpg\n",
            "data/faces95/jshea.14.jpg   data/faces95/theoc.14.jpg\n",
            "data/faces95/jshea.15.jpg   data/faces95/theoc.15.jpg\n",
            "data/faces95/jshea.16.jpg   data/faces95/theoc.16.jpg\n",
            "data/faces95/jshea.17.jpg   data/faces95/theoc.17.jpg\n",
            "data/faces95/jshea.18.jpg   data/faces95/theoc.18.jpg\n",
            "data/faces95/jshea.19.jpg   data/faces95/theoc.19.jpg\n",
            "data/faces95/jshea.1.jpg    data/faces95/theoc.1.jpg\n",
            "data/faces95/jshea.20.jpg   data/faces95/theoc.20.jpg\n",
            "data/faces95/jshea.2.jpg    data/faces95/theoc.2.jpg\n",
            "data/faces95/jshea.3.jpg    data/faces95/theoc.3.jpg\n",
            "data/faces95/jshea.4.jpg    data/faces95/theoc.4.jpg\n",
            "data/faces95/jshea.5.jpg    data/faces95/theoc.5.jpg\n",
            "data/faces95/jshea.6.jpg    data/faces95/theoc.6.jpg\n",
            "data/faces95/jshea.7.jpg    data/faces95/theoc.7.jpg\n",
            "data/faces95/jshea.8.jpg    data/faces95/theoc.8.jpg\n",
            "data/faces95/jshea.9.jpg    data/faces95/theoc.9.jpg\n",
            "data/faces95/kbartl.10.jpg  data/faces95/theod.10.jpg\n",
            "data/faces95/kbartl.11.jpg  data/faces95/theod.11.jpg\n",
            "data/faces95/kbartl.12.jpg  data/faces95/theod.12.jpg\n",
            "data/faces95/kbartl.13.jpg  data/faces95/theod.13.jpg\n",
            "data/faces95/kbartl.14.jpg  data/faces95/theod.14.jpg\n",
            "data/faces95/kbartl.15.jpg  data/faces95/theod.15.jpg\n",
            "data/faces95/kbartl.16.jpg  data/faces95/theod.16.jpg\n",
            "data/faces95/kbartl.17.jpg  data/faces95/theod.17.jpg\n",
            "data/faces95/kbartl.18.jpg  data/faces95/theod.18.jpg\n",
            "data/faces95/kbartl.19.jpg  data/faces95/theod.19.jpg\n",
            "data/faces95/kbartl.1.jpg   data/faces95/theod.1.jpg\n",
            "data/faces95/kbartl.20.jpg  data/faces95/theod.20.jpg\n",
            "data/faces95/kbartl.2.jpg   data/faces95/theod.2.jpg\n",
            "data/faces95/kbartl.3.jpg   data/faces95/theod.3.jpg\n",
            "data/faces95/kbartl.4.jpg   data/faces95/theod.4.jpg\n",
            "data/faces95/kbartl.5.jpg   data/faces95/theod.5.jpg\n",
            "data/faces95/kbartl.6.jpg   data/faces95/theod.6.jpg\n",
            "data/faces95/kbartl.7.jpg   data/faces95/theod.7.jpg\n",
            "data/faces95/kbartl.8.jpg   data/faces95/theod.8.jpg\n",
            "data/faces95/kbartl.9.jpg   data/faces95/theod.9.jpg\n",
            "data/faces95/kmbald.10.jpg  data/faces95/thgear.10.jpg\n",
            "data/faces95/kmbald.11.jpg  data/faces95/thgear.11.jpg\n",
            "data/faces95/kmbald.12.jpg  data/faces95/thgear.12.jpg\n",
            "data/faces95/kmbald.13.jpg  data/faces95/thgear.13.jpg\n",
            "data/faces95/kmbald.14.jpg  data/faces95/thgear.14.jpg\n",
            "data/faces95/kmbald.15.jpg  data/faces95/thgear.15.jpg\n",
            "data/faces95/kmbald.16.jpg  data/faces95/thgear.16.jpg\n",
            "data/faces95/kmbald.17.jpg  data/faces95/thgear.17.jpg\n",
            "data/faces95/kmbald.18.jpg  data/faces95/thgear.18.jpg\n",
            "data/faces95/kmbald.19.jpg  data/faces95/thgear.19.jpg\n",
            "data/faces95/kmbald.1.jpg   data/faces95/thgear.1.jpg\n",
            "data/faces95/kmbald.20.jpg  data/faces95/thgear.20.jpg\n",
            "data/faces95/kmbald.2.jpg   data/faces95/thgear.2.jpg\n",
            "data/faces95/kmbald.3.jpg   data/faces95/thgear.3.jpg\n",
            "data/faces95/kmbald.4.jpg   data/faces95/thgear.4.jpg\n",
            "data/faces95/kmbald.5.jpg   data/faces95/thgear.5.jpg\n",
            "data/faces95/kmbald.6.jpg   data/faces95/thgear.6.jpg\n",
            "data/faces95/kmbald.7.jpg   data/faces95/thgear.7.jpg\n",
            "data/faces95/kmbald.8.jpg   data/faces95/thgear.8.jpg\n",
            "data/faces95/kmbald.9.jpg   data/faces95/thgear.9.jpg\n",
            "data/faces95/kouri.10.jpg   data/faces95/tjdyke.10.jpg\n",
            "data/faces95/kouri.11.jpg   data/faces95/tjdyke.11.jpg\n",
            "data/faces95/kouri.12.jpg   data/faces95/tjdyke.12.jpg\n",
            "data/faces95/kouri.13.jpg   data/faces95/tjdyke.13.jpg\n",
            "data/faces95/kouri.14.jpg   data/faces95/tjdyke.14.jpg\n",
            "data/faces95/kouri.15.jpg   data/faces95/tjdyke.15.jpg\n",
            "data/faces95/kouri.16.jpg   data/faces95/tjdyke.16.jpg\n",
            "data/faces95/kouri.17.jpg   data/faces95/tjdyke.17.jpg\n",
            "data/faces95/kouri.18.jpg   data/faces95/tjdyke.18.jpg\n",
            "data/faces95/kouri.19.jpg   data/faces95/tjdyke.19.jpg\n",
            "data/faces95/kouri.1.jpg    data/faces95/tjdyke.1.jpg\n",
            "data/faces95/kouri.20.jpg   data/faces95/tjdyke.20.jpg\n",
            "data/faces95/kouri.2.jpg    data/faces95/tjdyke.2.jpg\n",
            "data/faces95/kouri.3.jpg    data/faces95/tjdyke.3.jpg\n",
            "data/faces95/kouri.4.jpg    data/faces95/tjdyke.4.jpg\n",
            "data/faces95/kouri.5.jpg    data/faces95/tjdyke.5.jpg\n",
            "data/faces95/kouri.6.jpg    data/faces95/tjdyke.6.jpg\n",
            "data/faces95/kouri.7.jpg    data/faces95/tjdyke.7.jpg\n",
            "data/faces95/kouri.8.jpg    data/faces95/tjdyke.8.jpg\n",
            "data/faces95/kouri.9.jpg    data/faces95/tjdyke.9.jpg\n",
            "data/faces95/labenm.10.jpg  data/faces95/vanta.10.jpg\n",
            "data/faces95/labenm.11.jpg  data/faces95/vanta.11.jpg\n",
            "data/faces95/labenm.12.jpg  data/faces95/vanta.12.jpg\n",
            "data/faces95/labenm.13.jpg  data/faces95/vanta.13.jpg\n",
            "data/faces95/labenm.14.jpg  data/faces95/vanta.14.jpg\n",
            "data/faces95/labenm.15.jpg  data/faces95/vanta.15.jpg\n",
            "data/faces95/labenm.16.jpg  data/faces95/vanta.16.jpg\n",
            "data/faces95/labenm.17.jpg  data/faces95/vanta.17.jpg\n",
            "data/faces95/labenm.18.jpg  data/faces95/vanta.18.jpg\n",
            "data/faces95/labenm.19.jpg  data/faces95/vanta.19.jpg\n",
            "data/faces95/labenm.1.jpg   data/faces95/vanta.1.jpg\n",
            "data/faces95/labenm.20.jpg  data/faces95/vanta.20.jpg\n",
            "data/faces95/labenm.2.jpg   data/faces95/vanta.2.jpg\n",
            "data/faces95/labenm.3.jpg   data/faces95/vanta.3.jpg\n",
            "data/faces95/labenm.4.jpg   data/faces95/vanta.4.jpg\n",
            "data/faces95/labenm.5.jpg   data/faces95/vanta.5.jpg\n",
            "data/faces95/labenm.6.jpg   data/faces95/vanta.6.jpg\n",
            "data/faces95/labenm.7.jpg   data/faces95/vanta.7.jpg\n",
            "data/faces95/labenm.8.jpg   data/faces95/vanta.8.jpg\n",
            "data/faces95/labenm.9.jpg   data/faces95/vanta.9.jpg\n",
            "data/faces95/ldgodd.10.jpg  data/faces95/virvi.10.jpg\n",
            "data/faces95/ldgodd.11.jpg  data/faces95/virvi.11.jpg\n",
            "data/faces95/ldgodd.12.jpg  data/faces95/virvi.12.jpg\n",
            "data/faces95/ldgodd.13.jpg  data/faces95/virvi.13.jpg\n",
            "data/faces95/ldgodd.14.jpg  data/faces95/virvi.14.jpg\n",
            "data/faces95/ldgodd.15.jpg  data/faces95/virvi.15.jpg\n",
            "data/faces95/ldgodd.16.jpg  data/faces95/virvi.16.jpg\n",
            "data/faces95/ldgodd.17.jpg  data/faces95/virvi.17.jpg\n",
            "data/faces95/ldgodd.18.jpg  data/faces95/virvi.18.jpg\n",
            "data/faces95/ldgodd.19.jpg  data/faces95/virvi.19.jpg\n",
            "data/faces95/ldgodd.1.jpg   data/faces95/virvi.1.jpg\n",
            "data/faces95/ldgodd.20.jpg  data/faces95/virvi.20.jpg\n",
            "data/faces95/ldgodd.2.jpg   data/faces95/virvi.2.jpg\n",
            "data/faces95/ldgodd.3.jpg   data/faces95/virvi.3.jpg\n",
            "data/faces95/ldgodd.4.jpg   data/faces95/virvi.4.jpg\n",
            "data/faces95/ldgodd.5.jpg   data/faces95/virvi.5.jpg\n",
            "data/faces95/ldgodd.6.jpg   data/faces95/virvi.6.jpg\n",
            "data/faces95/ldgodd.7.jpg   data/faces95/virvi.7.jpg\n",
            "data/faces95/ldgodd.8.jpg   data/faces95/virvi.8.jpg\n",
            "data/faces95/ldgodd.9.jpg   data/faces95/virvi.9.jpg\n",
            "data/faces95/lidov.10.jpg   data/faces95/wjhugh.10.jpg\n",
            "data/faces95/lidov.11.jpg   data/faces95/wjhugh.11.jpg\n",
            "data/faces95/lidov.12.jpg   data/faces95/wjhugh.12.jpg\n",
            "data/faces95/lidov.13.jpg   data/faces95/wjhugh.13.jpg\n",
            "data/faces95/lidov.14.jpg   data/faces95/wjhugh.14.jpg\n",
            "data/faces95/lidov.15.jpg   data/faces95/wjhugh.15.jpg\n",
            "data/faces95/lidov.16.jpg   data/faces95/wjhugh.16.jpg\n",
            "data/faces95/lidov.17.jpg   data/faces95/wjhugh.17.jpg\n",
            "data/faces95/lidov.18.jpg   data/faces95/wjhugh.18.jpg\n",
            "data/faces95/lidov.19.jpg   data/faces95/wjhugh.19.jpg\n",
            "data/faces95/lidov.1.jpg    data/faces95/wjhugh.1.jpg\n",
            "data/faces95/lidov.20.jpg   data/faces95/wjhugh.20.jpg\n",
            "data/faces95/lidov.2.jpg    data/faces95/wjhugh.2.jpg\n",
            "data/faces95/lidov.3.jpg    data/faces95/wjhugh.3.jpg\n",
            "data/faces95/lidov.4.jpg    data/faces95/wjhugh.4.jpg\n",
            "data/faces95/lidov.5.jpg    data/faces95/wjhugh.5.jpg\n",
            "data/faces95/lidov.6.jpg    data/faces95/wjhugh.6.jpg\n",
            "data/faces95/lidov.7.jpg    data/faces95/wjhugh.7.jpg\n",
            "data/faces95/lidov.8.jpg    data/faces95/wjhugh.8.jpg\n",
            "data/faces95/lidov.9.jpg    data/faces95/wjhugh.9.jpg\n"
          ]
        }
      ]
    },
    {
      "cell_type": "code",
      "metadata": {
        "id": "H86CuGTpGVap"
      },
      "source": [
        "flist = glob.glob(\"data/faces95/*jpg\")"
      ],
      "execution_count": null,
      "outputs": []
    },
    {
      "cell_type": "code",
      "metadata": {
        "id": "XFZGDvy7GVXu",
        "colab": {
          "base_uri": "https://localhost:8080/"
        },
        "outputId": "c7fe5f93-0be9-4b9e-f893-c4be8e373e56"
      },
      "source": [
        "N = len(flist)\n",
        "N"
      ],
      "execution_count": null,
      "outputs": [
        {
          "output_type": "execute_result",
          "data": {
            "text/plain": [
              "1440"
            ]
          },
          "metadata": {},
          "execution_count": 11
        }
      ]
    },
    {
      "cell_type": "markdown",
      "metadata": {
        "id": "wBPDLDqiGVWR"
      },
      "source": [
        "\n",
        "## read in data\n",
        "\n",
        "if you save the data in a npy array you can read it in more quickly. After the first time you run this you can comment out the next 2 cells of code and skip to the np.load command"
      ]
    },
    {
      "cell_type": "code",
      "metadata": {
        "id": "WEnoBy00GVM4",
        "colab": {
          "base_uri": "https://localhost:8080/",
          "height": 287
        },
        "outputId": "d41c0954-a7b6-4ee9-940a-53cd72110de6"
      },
      "source": [
        "im = Image.open(flist[40])\n",
        "np_im = numpy.array(im)[:,:,:3].astype(float) / 255 #normalize the images so that they are 0-1\n",
        "pl.imshow(np_im)\n",
        "# I am going to need only a subset of the image: the center part where the head is\n",
        "\n",
        "np_im[25:165:2,25:165:2,:1].shape, np.prod(np_im.shape[1:])"
      ],
      "execution_count": null,
      "outputs": [
        {
          "output_type": "execute_result",
          "data": {
            "text/plain": [
              "((70, 70, 1), 540)"
            ]
          },
          "metadata": {},
          "execution_count": 12
        },
        {
          "output_type": "display_data",
          "data": {
            "image/png": "[encoded data removed]",
            "text/plain": [
              "<Figure size 432x288 with 1 Axes>"
            ]
          },
          "metadata": {
            "needs_background": "light"
          }
        }
      ]
    },
    {
      "cell_type": "code",
      "metadata": {
        "colab": {
          "base_uri": "https://localhost:8080/",
          "height": 286
        },
        "id": "Mj5Li9GKyWjo",
        "outputId": "d3b60e27-f3e9-48f1-8e29-9d797cdfb24e"
      },
      "source": [
        "pl.imshow(np_im[25:165:2,25:165:2])"
      ],
      "execution_count": null,
      "outputs": [
        {
          "output_type": "execute_result",
          "data": {
            "text/plain": [
              "<matplotlib.image.AxesImage at 0x7f94ab1212d0>"
            ]
          },
          "metadata": {},
          "execution_count": 13
        },
        {
          "output_type": "display_data",
          "data": {
            "image/png": "[encoded data removed]",
            "text/plain": [
              "<Figure size 432x288 with 1 Axes>"
            ]
          },
          "metadata": {
            "needs_background": "light"
          }
        }
      ]
    },
    {
      "cell_type": "markdown",
      "metadata": {
        "id": "MTZ9lDciagCd"
      },
      "source": [
        "<font color='red'> 461 students - you can skip this and go  straight to loading the images</font>"
      ]
    },
    {
      "cell_type": "code",
      "metadata": {
        "id": "sRO9HLyPKxQo",
        "colab": {
          "base_uri": "https://localhost:8080/"
        },
        "outputId": "74c51d7e-7e4d-4e71-bcaa-54c436626301"
      },
      "source": [
        "#skip and read the saved version if you have saved it (after the first time you run this cell)\n",
        "# I also use a single color channel (black and white)\n",
        "imgs = np.zeros((N, 70, 70, 1))\n",
        "for i,f in enumerate(flist):\n",
        "  if not i%50: print(i)\n",
        "  im = Image.open(flist[i])\n",
        "  np_im = numpy.array(im)[:,:,:3].astype(float) / 255 \n",
        "  # here I collect the certain portion of each image \n",
        "  # from pixel 25 to 165 on the x and y axis (25:165)\n",
        "  # and subsampling by a factor 2 (25:165:2)\n",
        "  # and I am only choosing 1 color layer: [...,:1]: the R in RGB layers\n",
        "  imgs[i] = numpy.array(im)[25:165:2,25:165:2,:1].astype(float) / 255 \n",
        "#uncomment this to save another array of images - I saved the original one as data/faces.npy\n",
        "#np.save(\"data/faces_saved.npy\", imgs)"
      ],
      "execution_count": null,
      "outputs": [
        {
          "output_type": "stream",
          "text": [
            "0\n",
            "50\n",
            "100\n",
            "150\n",
            "200\n",
            "250\n",
            "300\n",
            "350\n",
            "400\n",
            "450\n",
            "500\n",
            "550\n",
            "600\n",
            "650\n",
            "700\n",
            "750\n",
            "800\n",
            "850\n",
            "900\n",
            "950\n",
            "1000\n",
            "1050\n",
            "1100\n",
            "1150\n",
            "1200\n",
            "1250\n",
            "1300\n",
            "1350\n",
            "1400\n"
          ],
          "name": "stdout"
        }
      ]
    },
    {
      "cell_type": "markdown",
      "metadata": {
        "id": "-i82eIydsU-T"
      },
      "source": [
        "# 461 studentd - 1B you can read the images below if you have saved them earlier"
      ]
    },
    {
      "cell_type": "code",
      "metadata": {
        "id": "gtdcbAa17cz9",
        "colab": {
          "base_uri": "https://localhost:8080/"
        },
        "outputId": "333c3cf7-c12b-40e9-82fc-e03c8a68989c"
      },
      "source": [
        "imgs = np.load(\"data/faces.npy\")\n",
        "imgs.shape"
      ],
      "execution_count": 8,
      "outputs": [
        {
          "output_type": "execute_result",
          "data": {
            "text/plain": [
              "(1440, 70, 70, 1)"
            ]
          },
          "metadata": {},
          "execution_count": 8
        }
      ]
    },
    {
      "cell_type": "markdown",
      "metadata": {
        "id": "1_xTnzagSnUQ"
      },
      "source": [
        "## 2 lower the resolution#\n",
        "keep printing the shape of the images as you go along:\n",
        "\n",
        "make a copy of the original before you lower the res \n",
        "\n",
        "- sample the image every other pixel to get a 35x35 image and only (the shape of the image set should be 1440,35,35,1\n",
        "- create a 75/25 train/test set with the command \n",
        "          train_test_split(input, target, test_size = .25, random_state=1) \n",
        "          What are the input and output data??\n",
        "- the data will be fed as a single row of pixels, so for example each imput image should be reshaped so that  the image array so that eachimage is 35*35 long: reshape the 4 arrays: input training, output training, input test and output test so that they are they are the appropriate shape (each should be Nimages x Npixel)\n"
      ]
    },
    {
      "cell_type": "code",
      "metadata": {
        "id": "G1T-YpWvJPLF"
      },
      "source": [
        "#imgs orig is the full resolution image\n",
        "imgs_orig = imgs.copy()"
      ],
      "execution_count": 9,
      "outputs": []
    },
    {
      "cell_type": "code",
      "source": [
        "imgs_orig.shape"
      ],
      "metadata": {
        "id": "cvoCGoTYGp9X",
        "outputId": "4da18f7f-51d7-43a2-9107-c1d1e4858d70",
        "colab": {
          "base_uri": "https://localhost:8080/"
        }
      },
      "execution_count": 10,
      "outputs": [
        {
          "output_type": "execute_result",
          "data": {
            "text/plain": [
              "(1440, 70, 70, 1)"
            ]
          },
          "metadata": {},
          "execution_count": 10
        }
      ]
    },
    {
      "cell_type": "code",
      "metadata": {
        "id": "LcqaIVO_JVQU",
        "outputId": "309e044d-0a64-48a8-b1a9-9a92c819949a",
        "colab": {
          "base_uri": "https://localhost:8080/"
        }
      },
      "source": [
        "# lower the resolution\n",
        "# example: take one every N pixels\n",
        "imgs_lr = imgs[:,::2,::2]\n",
        "# slightly better than the line of code above\n",
        "#imgs_lr = imgs.reshape().mean(1).mean(1)\n",
        "imgs_lr.shape"
      ],
      "execution_count": 72,
      "outputs": [
        {
          "output_type": "execute_result",
          "data": {
            "text/plain": [
              "(1440, 35, 35, 1)"
            ]
          },
          "metadata": {},
          "execution_count": 72
        }
      ]
    },
    {
      "cell_type": "code",
      "metadata": {
        "id": "25GNF4TmKw-5",
        "colab": {
          "base_uri": "https://localhost:8080/"
        },
        "outputId": "cabf7113-087e-4063-b288-b1bd5802c280"
      },
      "source": [
        "#this is the number of pixels in the image\n",
        "np.prod(imgs_lr[1].shape), np.prod(imgs[1].shape), "
      ],
      "execution_count": 73,
      "outputs": [
        {
          "output_type": "execute_result",
          "data": {
            "text/plain": [
              "(1225, 4900)"
            ]
          },
          "metadata": {},
          "execution_count": 73
        }
      ]
    },
    {
      "cell_type": "markdown",
      "metadata": {
        "id": "YuzhtLfG8RWz"
      },
      "source": [
        "#### generate a train and test set\n",
        "If I want to predict the image at the same resolution I will pass the same input as the target variable. Otherwise the target variable will be a full resolution image set and the low input the lower resolution one"
      ]
    },
    {
      "cell_type": "code",
      "metadata": {
        "id": "cD5Tq_CTGVDc"
      },
      "source": [
        "from sklearn.model_selection import train_test_split\n"
      ],
      "execution_count": 33,
      "outputs": []
    },
    {
      "cell_type": "code",
      "source": [
        "X_tr,  X_te, y_tr, y_te = train_test_split(imgs_lr,imgs_orig,test_size=0.1, random_state=42)"
      ],
      "metadata": {
        "id": "KXPNaiCnH8bq"
      },
      "execution_count": 83,
      "outputs": []
    },
    {
      "cell_type": "code",
      "metadata": {
        "id": "GH7G4XoNKw11",
        "colab": {
          "base_uri": "https://localhost:8080/"
        },
        "outputId": "325ac9d7-0a4e-45ea-8011-a8bcf2e86745"
      },
      "source": [
        "X_tr.shape, X_te.shape, y_tr.shape, y_te.shape"
      ],
      "execution_count": 84,
      "outputs": [
        {
          "output_type": "execute_result",
          "data": {
            "text/plain": [
              "((1296, 35, 35, 1), (144, 35, 35, 1), (1296, 70, 70, 1), (144, 70, 70, 1))"
            ]
          },
          "metadata": {},
          "execution_count": 84
        }
      ]
    },
    {
      "cell_type": "code",
      "metadata": {
        "id": "zO-IKuTtGUIa"
      },
      "source": [
        "#each image needs to be unravel into a flat array\n",
        "X_tr = X_tr.reshape(len(X_tr), np.prod(X_tr.shape[1:]))\n",
        "X_te = X_te.reshape(len(X_te), np.prod(X_te.shape[1:]))\n",
        "y_tr = y_tr.reshape(len(y_tr), np.prod(y_tr.shape[1:]))\n",
        "y_te = y_te.reshape(len(y_te), np.prod(y_te.shape[1:]))"
      ],
      "execution_count": 85,
      "outputs": []
    },
    {
      "cell_type": "code",
      "metadata": {
        "colab": {
          "base_uri": "https://localhost:8080/"
        },
        "id": "TFZOTnUejsFU",
        "outputId": "4eb0e6a4-882a-4ab3-8486-8f3f2e108a25"
      },
      "source": [
        "## important: we feed to the NN rows of pixels, not cubes of pixels\n",
        "X_tr.shape, X_te.shape, y_tr.shape, y_te.shape"
      ],
      "execution_count": 86,
      "outputs": [
        {
          "output_type": "execute_result",
          "data": {
            "text/plain": [
              "((1296, 1225), (144, 1225), (1296, 4900), (144, 4900))"
            ]
          },
          "metadata": {},
          "execution_count": 86
        }
      ]
    },
    {
      "cell_type": "markdown",
      "metadata": {
        "id": "O2taigiAbUkf"
      },
      "source": [
        "## 3 build an autoencoder model\n",
        "\n",
        "Remember that the autoencoder is an hour clock model: the center is a smallest layer\n",
        "\n",
        "for example your NN layers could be \n",
        "\n",
        "324 (input size) -> 256 -> 128 -> 56 -> 128 -> 256 -> 1225 (output size)"
      ]
    },
    {
      "cell_type": "code",
      "metadata": {
        "id": "XAFXQiSPGVGE"
      },
      "source": [
        "# this model is 324 (input size) -> 256 -> 128 128 -> 256 -> 1225 (output size)\n",
        "\n",
        "model= Sequential()\n",
        "## encoder\n",
        "# input layer and the output size\n",
        "model.add(Dense(256, activation='relu', input_dim=324))\n",
        "#compression layers\n",
        "model.add(Dense(128, activation='relu'))\n",
        "## deencoder\n",
        "#decompression layers, same size as in the encoder\n",
        "model.add(Dense(256, activation='relu'))\n",
        "model.add(Dense(512, activation='relu'))\n",
        "model.add(Dense(1225, activation='linear'))"
      ],
      "execution_count": 87,
      "outputs": []
    },
    {
      "cell_type": "code",
      "metadata": {
        "id": "DVcza_KHX0In",
        "outputId": "cc354003-c04c-426d-e3d0-bda85625f986",
        "colab": {
          "base_uri": "https://localhost:8080/"
        }
      },
      "source": [
        "print(model.summary())"
      ],
      "execution_count": 88,
      "outputs": [
        {
          "output_type": "stream",
          "name": "stdout",
          "text": [
            "Model: \"sequential_4\"\n",
            "_________________________________________________________________\n",
            " Layer (type)                Output Shape              Param #   \n",
            "=================================================================\n",
            " dense_23 (Dense)            (None, 256)               83200     \n",
            "                                                                 \n",
            " dense_24 (Dense)            (None, 128)               32896     \n",
            "                                                                 \n",
            " dense_25 (Dense)            (None, 256)               33024     \n",
            "                                                                 \n",
            " dense_26 (Dense)            (None, 512)               131584    \n",
            "                                                                 \n",
            " dense_27 (Dense)            (None, 1225)              628425    \n",
            "                                                                 \n",
            "=================================================================\n",
            "Total params: 909,129\n",
            "Trainable params: 909,129\n",
            "Non-trainable params: 0\n",
            "_________________________________________________________________\n",
            "None\n"
          ]
        }
      ]
    },
    {
      "cell_type": "markdown",
      "metadata": {
        "id": "U2-USV-IaqeS"
      },
      "source": [
        "## 4 A train model "
      ]
    },
    {
      "cell_type": "code",
      "metadata": {
        "id": "gi9L466xzwkH"
      },
      "source": [
        "# you can skip this and load the saved model\n",
        "\n",
        "#SKIPPED\n",
        "history = model.fit(...\n",
        ")"
      ],
      "execution_count": null,
      "outputs": []
    },
    {
      "cell_type": "markdown",
      "metadata": {
        "id": "Jo2bsxMDazQW"
      },
      "source": [
        "## predict"
      ]
    },
    {
      "cell_type": "code",
      "metadata": {
        "id": "AcklN-01M8vk",
        "outputId": "15feb1f3-aa9b-436e-cda5-667f8926b500",
        "colab": {
          "base_uri": "https://localhost:8080/",
          "height": 587
        }
      },
      "source": [
        "outim = model.predict(X_te)\n",
        "outim"
      ],
      "execution_count": 89,
      "outputs": [
        {
          "output_type": "error",
          "ename": "ValueError",
          "evalue": "ignored",
          "traceback": [
            "\u001b[0;31m---------------------------------------------------------------------------\u001b[0m",
            "\u001b[0;31mValueError\u001b[0m                                Traceback (most recent call last)",
            "\u001b[0;32m<ipython-input-89-15152ef11817>\u001b[0m in \u001b[0;36m<module>\u001b[0;34m()\u001b[0m\n\u001b[0;32m----> 1\u001b[0;31m \u001b[0moutim\u001b[0m \u001b[0;34m=\u001b[0m \u001b[0mmodel\u001b[0m\u001b[0;34m.\u001b[0m\u001b[0mpredict\u001b[0m\u001b[0;34m(\u001b[0m\u001b[0mX_te\u001b[0m\u001b[0;34m)\u001b[0m\u001b[0;34m\u001b[0m\u001b[0;34m\u001b[0m\u001b[0m\n\u001b[0m\u001b[1;32m      2\u001b[0m \u001b[0moutim\u001b[0m\u001b[0;34m\u001b[0m\u001b[0;34m\u001b[0m\u001b[0m\n",
            "\u001b[0;32m/usr/local/lib/python3.7/dist-packages/keras/utils/traceback_utils.py\u001b[0m in \u001b[0;36merror_handler\u001b[0;34m(*args, **kwargs)\u001b[0m\n\u001b[1;32m     65\u001b[0m     \u001b[0;32mexcept\u001b[0m \u001b[0mException\u001b[0m \u001b[0;32mas\u001b[0m \u001b[0me\u001b[0m\u001b[0;34m:\u001b[0m  \u001b[0;31m# pylint: disable=broad-except\u001b[0m\u001b[0;34m\u001b[0m\u001b[0;34m\u001b[0m\u001b[0m\n\u001b[1;32m     66\u001b[0m       \u001b[0mfiltered_tb\u001b[0m \u001b[0;34m=\u001b[0m \u001b[0m_process_traceback_frames\u001b[0m\u001b[0;34m(\u001b[0m\u001b[0me\u001b[0m\u001b[0;34m.\u001b[0m\u001b[0m__traceback__\u001b[0m\u001b[0;34m)\u001b[0m\u001b[0;34m\u001b[0m\u001b[0;34m\u001b[0m\u001b[0m\n\u001b[0;32m---> 67\u001b[0;31m       \u001b[0;32mraise\u001b[0m \u001b[0me\u001b[0m\u001b[0;34m.\u001b[0m\u001b[0mwith_traceback\u001b[0m\u001b[0;34m(\u001b[0m\u001b[0mfiltered_tb\u001b[0m\u001b[0;34m)\u001b[0m \u001b[0;32mfrom\u001b[0m \u001b[0;32mNone\u001b[0m\u001b[0;34m\u001b[0m\u001b[0;34m\u001b[0m\u001b[0m\n\u001b[0m\u001b[1;32m     68\u001b[0m     \u001b[0;32mfinally\u001b[0m\u001b[0;34m:\u001b[0m\u001b[0;34m\u001b[0m\u001b[0;34m\u001b[0m\u001b[0m\n\u001b[1;32m     69\u001b[0m       \u001b[0;32mdel\u001b[0m \u001b[0mfiltered_tb\u001b[0m\u001b[0;34m\u001b[0m\u001b[0;34m\u001b[0m\u001b[0m\n",
            "\u001b[0;32m/usr/local/lib/python3.7/dist-packages/tensorflow/python/framework/func_graph.py\u001b[0m in \u001b[0;36mautograph_handler\u001b[0;34m(*args, **kwargs)\u001b[0m\n\u001b[1;32m   1127\u001b[0m           \u001b[0;32mexcept\u001b[0m \u001b[0mException\u001b[0m \u001b[0;32mas\u001b[0m \u001b[0me\u001b[0m\u001b[0;34m:\u001b[0m  \u001b[0;31m# pylint:disable=broad-except\u001b[0m\u001b[0;34m\u001b[0m\u001b[0;34m\u001b[0m\u001b[0m\n\u001b[1;32m   1128\u001b[0m             \u001b[0;32mif\u001b[0m \u001b[0mhasattr\u001b[0m\u001b[0;34m(\u001b[0m\u001b[0me\u001b[0m\u001b[0;34m,\u001b[0m \u001b[0;34m\"ag_error_metadata\"\u001b[0m\u001b[0;34m)\u001b[0m\u001b[0;34m:\u001b[0m\u001b[0;34m\u001b[0m\u001b[0;34m\u001b[0m\u001b[0m\n\u001b[0;32m-> 1129\u001b[0;31m               \u001b[0;32mraise\u001b[0m \u001b[0me\u001b[0m\u001b[0;34m.\u001b[0m\u001b[0mag_error_metadata\u001b[0m\u001b[0;34m.\u001b[0m\u001b[0mto_exception\u001b[0m\u001b[0;34m(\u001b[0m\u001b[0me\u001b[0m\u001b[0;34m)\u001b[0m\u001b[0;34m\u001b[0m\u001b[0;34m\u001b[0m\u001b[0m\n\u001b[0m\u001b[1;32m   1130\u001b[0m             \u001b[0;32melse\u001b[0m\u001b[0;34m:\u001b[0m\u001b[0;34m\u001b[0m\u001b[0;34m\u001b[0m\u001b[0m\n\u001b[1;32m   1131\u001b[0m               \u001b[0;32mraise\u001b[0m\u001b[0;34m\u001b[0m\u001b[0;34m\u001b[0m\u001b[0m\n",
            "\u001b[0;31mValueError\u001b[0m: in user code:\n\n    File \"/usr/local/lib/python3.7/dist-packages/keras/engine/training.py\", line 1621, in predict_function  *\n        return step_function(self, iterator)\n    File \"/usr/local/lib/python3.7/dist-packages/keras/engine/training.py\", line 1611, in step_function  **\n        outputs = model.distribute_strategy.run(run_step, args=(data,))\n    File \"/usr/local/lib/python3.7/dist-packages/keras/engine/training.py\", line 1604, in run_step  **\n        outputs = model.predict_step(data)\n    File \"/usr/local/lib/python3.7/dist-packages/keras/engine/training.py\", line 1572, in predict_step\n        return self(x, training=False)\n    File \"/usr/local/lib/python3.7/dist-packages/keras/utils/traceback_utils.py\", line 67, in error_handler\n        raise e.with_traceback(filtered_tb) from None\n    File \"/usr/local/lib/python3.7/dist-packages/keras/engine/input_spec.py\", line 263, in assert_input_compatibility\n        raise ValueError(f'Input {input_index} of layer \"{layer_name}\" is '\n\n    ValueError: Input 0 of layer \"sequential_4\" is incompatible with the layer: expected shape=(None, 324), found shape=(None, 1225)\n"
          ]
        }
      ]
    },
    {
      "cell_type": "code",
      "metadata": {
        "id": "ROEqgG3aM8yV"
      },
      "source": [
        "def compareinout(i, outim, X_tr):\n",
        "  '''function to plot the input, the prediction and the target in 3 columns\n",
        "  plots the ith training datum'''\n",
        "  fig = pl.figure(figsize(10,5))\n",
        "  ax = fig.add_subplot(131) \n",
        "  ax.imshow(X_te[i].reshape(imgs_lr[i].shape[:2]) , cmap=\"bone\")\n",
        "  ax.get_xaxis().set_visible(False)\n",
        "  ax.get_yaxis().set_visible(False)\n",
        "  ax = fig.add_subplot(132) \n",
        "  ax.imshow(outim[i].reshape(imgs_orig[i].shape[:2]) , cmap=\"bone\")\n",
        "  ax.get_xaxis().set_visible(False)\n",
        "  ax.get_yaxis().set_visible(False)\n",
        "  ax = fig.add_subplot(133) \n",
        "  ax.imshow(y_te[i].reshape(imgs_orig[i].shape[:2]) , cmap=\"bone\")\n",
        "  ax.get_xaxis().set_visible(False)\n",
        "  ax.get_yaxis().set_visible(False)\n"
      ],
      "execution_count": 50,
      "outputs": []
    },
    {
      "cell_type": "code",
      "metadata": {
        "id": "ZsCU__LQM8sZ",
        "outputId": "d914ce07-f688-4477-96c8-01969ae5e462",
        "colab": {
          "base_uri": "https://localhost:8080/",
          "height": 662
        }
      },
      "source": [
        "np.random.seed(123)\n",
        "# pick a few random test images\n",
        "for i in range(10):\n",
        "  j = np.random.randint(0, len(X_te))\n",
        "  print(i + 1, \":\\tinput\\t\\t      prediction\\t\\t  target\")\n",
        "  compareinout(j, outim, X_te)\n",
        "  pl.show()"
      ],
      "execution_count": 74,
      "outputs": [
        {
          "output_type": "stream",
          "name": "stdout",
          "text": [
            "1 :\tinput\t\t      prediction\t\t  target\n"
          ]
        },
        {
          "output_type": "error",
          "ename": "ValueError",
          "evalue": "ignored",
          "traceback": [
            "\u001b[0;31m---------------------------------------------------------------------------\u001b[0m",
            "\u001b[0;31mValueError\u001b[0m                                Traceback (most recent call last)",
            "\u001b[0;32m<ipython-input-74-933f1d77271c>\u001b[0m in \u001b[0;36m<module>\u001b[0;34m()\u001b[0m\n\u001b[1;32m      4\u001b[0m   \u001b[0mj\u001b[0m \u001b[0;34m=\u001b[0m \u001b[0mnp\u001b[0m\u001b[0;34m.\u001b[0m\u001b[0mrandom\u001b[0m\u001b[0;34m.\u001b[0m\u001b[0mrandint\u001b[0m\u001b[0;34m(\u001b[0m\u001b[0;36m0\u001b[0m\u001b[0;34m,\u001b[0m \u001b[0mlen\u001b[0m\u001b[0;34m(\u001b[0m\u001b[0mX_te\u001b[0m\u001b[0;34m)\u001b[0m\u001b[0;34m)\u001b[0m\u001b[0;34m\u001b[0m\u001b[0;34m\u001b[0m\u001b[0m\n\u001b[1;32m      5\u001b[0m   \u001b[0mprint\u001b[0m\u001b[0;34m(\u001b[0m\u001b[0mi\u001b[0m \u001b[0;34m+\u001b[0m \u001b[0;36m1\u001b[0m\u001b[0;34m,\u001b[0m \u001b[0;34m\":\\tinput\\t\\t      prediction\\t\\t  target\"\u001b[0m\u001b[0;34m)\u001b[0m\u001b[0;34m\u001b[0m\u001b[0;34m\u001b[0m\u001b[0m\n\u001b[0;32m----> 6\u001b[0;31m   \u001b[0mcompareinout\u001b[0m\u001b[0;34m(\u001b[0m\u001b[0mj\u001b[0m\u001b[0;34m,\u001b[0m \u001b[0moutim\u001b[0m\u001b[0;34m,\u001b[0m \u001b[0mX_te\u001b[0m\u001b[0;34m)\u001b[0m\u001b[0;34m\u001b[0m\u001b[0;34m\u001b[0m\u001b[0m\n\u001b[0m\u001b[1;32m      7\u001b[0m   \u001b[0mpl\u001b[0m\u001b[0;34m.\u001b[0m\u001b[0mshow\u001b[0m\u001b[0;34m(\u001b[0m\u001b[0;34m)\u001b[0m\u001b[0;34m\u001b[0m\u001b[0;34m\u001b[0m\u001b[0m\n",
            "\u001b[0;32m<ipython-input-50-7e56092a58f5>\u001b[0m in \u001b[0;36mcompareinout\u001b[0;34m(i, outim, X_tr)\u001b[0m\n\u001b[1;32m      8\u001b[0m   \u001b[0max\u001b[0m\u001b[0;34m.\u001b[0m\u001b[0mget_yaxis\u001b[0m\u001b[0;34m(\u001b[0m\u001b[0;34m)\u001b[0m\u001b[0;34m.\u001b[0m\u001b[0mset_visible\u001b[0m\u001b[0;34m(\u001b[0m\u001b[0;32mFalse\u001b[0m\u001b[0;34m)\u001b[0m\u001b[0;34m\u001b[0m\u001b[0;34m\u001b[0m\u001b[0m\n\u001b[1;32m      9\u001b[0m   \u001b[0max\u001b[0m \u001b[0;34m=\u001b[0m \u001b[0mfig\u001b[0m\u001b[0;34m.\u001b[0m\u001b[0madd_subplot\u001b[0m\u001b[0;34m(\u001b[0m\u001b[0;36m132\u001b[0m\u001b[0;34m)\u001b[0m\u001b[0;34m\u001b[0m\u001b[0;34m\u001b[0m\u001b[0m\n\u001b[0;32m---> 10\u001b[0;31m   \u001b[0max\u001b[0m\u001b[0;34m.\u001b[0m\u001b[0mimshow\u001b[0m\u001b[0;34m(\u001b[0m\u001b[0moutim\u001b[0m\u001b[0;34m[\u001b[0m\u001b[0mi\u001b[0m\u001b[0;34m]\u001b[0m\u001b[0;34m.\u001b[0m\u001b[0mreshape\u001b[0m\u001b[0;34m(\u001b[0m\u001b[0mimgs_orig\u001b[0m\u001b[0;34m[\u001b[0m\u001b[0mi\u001b[0m\u001b[0;34m]\u001b[0m\u001b[0;34m.\u001b[0m\u001b[0mshape\u001b[0m\u001b[0;34m[\u001b[0m\u001b[0;34m:\u001b[0m\u001b[0;36m2\u001b[0m\u001b[0;34m]\u001b[0m\u001b[0;34m)\u001b[0m \u001b[0;34m,\u001b[0m \u001b[0mcmap\u001b[0m\u001b[0;34m=\u001b[0m\u001b[0;34m\"bone\"\u001b[0m\u001b[0;34m)\u001b[0m\u001b[0;34m\u001b[0m\u001b[0;34m\u001b[0m\u001b[0m\n\u001b[0m\u001b[1;32m     11\u001b[0m   \u001b[0max\u001b[0m\u001b[0;34m.\u001b[0m\u001b[0mget_xaxis\u001b[0m\u001b[0;34m(\u001b[0m\u001b[0;34m)\u001b[0m\u001b[0;34m.\u001b[0m\u001b[0mset_visible\u001b[0m\u001b[0;34m(\u001b[0m\u001b[0;32mFalse\u001b[0m\u001b[0;34m)\u001b[0m\u001b[0;34m\u001b[0m\u001b[0;34m\u001b[0m\u001b[0m\n\u001b[1;32m     12\u001b[0m   \u001b[0max\u001b[0m\u001b[0;34m.\u001b[0m\u001b[0mget_yaxis\u001b[0m\u001b[0;34m(\u001b[0m\u001b[0;34m)\u001b[0m\u001b[0;34m.\u001b[0m\u001b[0mset_visible\u001b[0m\u001b[0;34m(\u001b[0m\u001b[0;32mFalse\u001b[0m\u001b[0;34m)\u001b[0m\u001b[0;34m\u001b[0m\u001b[0;34m\u001b[0m\u001b[0m\n",
            "\u001b[0;31mValueError\u001b[0m: cannot reshape array of size 1225 into shape (70,70)"
          ]
        },
        {
          "output_type": "display_data",
          "data": {
            "image/png": "[encoded data removed]",
            "text/plain": [
              "<Figure size 720x360 with 2 Axes>"
            ]
          },
          "metadata": {
            "needs_background": "light"
          }
        }
      ]
    },
    {
      "cell_type": "markdown",
      "metadata": {
        "id": "9HIViBLyFT35"
      },
      "source": [
        "What do you think? some are pretty good right?! e.g. 1, 4, 6, 7, 8\n",
        "\n",
        "Some are really bad. 9... why?"
      ]
    }
  ]
}