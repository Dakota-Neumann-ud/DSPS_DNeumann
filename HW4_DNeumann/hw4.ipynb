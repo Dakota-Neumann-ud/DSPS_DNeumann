{
  "nbformat": 4,
  "nbformat_minor": 0,
  "metadata": {
    "colab": {
      "name": "Copy of MWrotCurve.ipynb",
      "provenance": [],
      "collapsed_sections": [
        "6me5k4c1OdDY"
      ]
    },
    "kernelspec": {
      "display_name": "Python 3",
      "language": "python",
      "name": "python3"
    },
    "language_info": {
      "codemirror_mode": {
        "name": "ipython",
        "version": 3
      },
      "file_extension": ".py",
      "mimetype": "text/x-python",
      "name": "python",
      "nbconvert_exporter": "python",
      "pygments_lexer": "ipython3",
      "version": "3.6.7"
    },
    "nbTranslate": {
      "displayLangs": [
        "*"
      ],
      "hotkey": "alt-t",
      "langInMainMenu": true,
      "sourceLang": "en",
      "targetLang": "fr",
      "useGoogleTranslate": true
    },
    "toc": {
      "base_numbering": 1,
      "colors": {
        "hover_highlight": "#DAA520",
        "running_highlight": "#FF0000",
        "selected_highlight": "#FFD700"
      },
      "moveMenuLeft": true,
      "nav_menu": {},
      "navigate_menu": true,
      "number_sections": true,
      "sideBar": true,
      "skip_h1_title": false,
      "threshold": 4,
      "title_cell": "Table of Contents",
      "title_sidebar": "Contents",
      "toc_cell": false,
      "toc_position": {
        "height": "calc(100% - 180px)",
        "left": "10px",
        "top": "150px",
        "width": "165px"
      },
      "toc_section_display": true,
      "toc_window_display": true
    }
  },
  "cells": [
    {
      "cell_type": "markdown",
      "metadata": {
        "id": "rxa6Xa3jOdCI",
        "run_control": {
          "frozen": false,
          "read_only": false
        }
      },
      "source": [
        "prepared by federica b bianco @fedhere\n",
        "for UDel DSPS PHYS 467/667\n",
        "\n",
        "# testing the significance of Dark Matter"
      ]
    },
    {
      "cell_type": "code",
      "metadata": {
        "ExecuteTime": {
          "end_time": "2019-09-16T17:54:57.244596Z",
          "start_time": "2019-09-16T17:54:57.231090Z"
        },
        "colab": {
          "base_uri": "https://localhost:8080/"
        },
        "id": "Ya2RaOGbOdCJ",
        "run_control": {
          "frozen": false,
          "read_only": false
        },
        "outputId": "ea102830-7479-41ed-bbfa-60c18763d561"
      },
      "source": [
        "import pandas as pd\n",
        "import numpy as np\n",
        "import pylab as pl\n",
        "%pylab inline\n",
        "\n",
        "\n",
        "#package I will use for constants and units conversion \n",
        "import astropy\n",
        "\n"
      ],
      "execution_count": 123,
      "outputs": [
        {
          "output_type": "stream",
          "name": "stdout",
          "text": [
            "Populating the interactive namespace from numpy and matplotlib\n"
          ]
        }
      ]
    },
    {
      "cell_type": "markdown",
      "metadata": {
        "id": "4qp8A2TG1Gwb",
        "run_control": {
          "frozen": false,
          "read_only": false
        }
      },
      "source": [
        "In 1970 Vera Rubin published a seminal paper: she measured the rotational speed of HII regions in several galaxies and how it changed as a function of distance to the center of the galaxy. If we believe Newtonian gravity (or GR) we expect that _once all of the mass is included_, i.e. at a radius distance from the center of the galaxy larger than the radius of the galaxy itself, the rotational speed will be proportional to $v\\propto\\frac{1}/{r}$"
      ]
    },
    {
      "cell_type": "markdown",
      "metadata": {
        "id": "j-BDrNseOdCR",
        "run_control": {
          "frozen": false,
          "read_only": false
        }
      },
      "source": [
        "## Propagation of  uncertainties rules\n",
        "\n",
        "below are the basic rules for propagation of uncertainties - use [this as reference](https://github.com/fedhere/DSPS/blob/master/resources/Managing%20Errors%20and%20Uncertainty.pdf)"
      ]
    },
    {
      "cell_type": "markdown",
      "metadata": {
        "id": "iCrFipBzOzqp",
        "run_control": {
          "frozen": false,
          "read_only": false
        }
      },
      "source": [
        "\n",
        "\n",
        "\n",
        "$$\n",
        "\\begin{eqnarray}\n",
        "z = x  \\pm y  ~| & ~  &dz = \\sqrt{dx^2 + dy^2} \n",
        "\\\\\n",
        "z = x * y  ~| & ~& dz = |xy|  \\sqrt{\\left(\\frac{dx}{x}\\right)^2 + \n",
        "                                \\left(\\frac{dy}{y}\\right)^2} \\\\\n",
        "z = x / y  ~| & ~& dz = \\left|\\frac{x}{y}\\right| \\sqrt{\\left(\\frac{dx}{x}\\right)^2 + \n",
        "                                                   \\left(\\frac{dy}{y}\\right)^2} \\\\\n",
        "z = x^n ~| & ~& dz = |n| ~ x^{n-1}  dx \\\\\n",
        "z = \\mathrm{c}x ~| & ~& dz = |\\mathrm{c}| ~dx \\\\\n",
        "z = f(x, y) ~| & ~& dz = \\sqrt{\\left(\\frac{\\partial f}{\\partial x}\\right)^2 dx^2 +\\left(\\frac{\\partial f}{\\partial y}\\right)^2 dy^2} \\\\\n",
        "\\end{eqnarray}\n",
        "$$\n"
      ]
    },
    {
      "cell_type": "markdown",
      "metadata": {
        "id": "WcF0zlWCOdCX",
        "run_control": {
          "frozen": false,
          "read_only": false
        }
      },
      "source": [
        "# let's assume a Newtonian framework: \n",
        "the velocity of a body in orbit depends only on the gravitational field of the mass that attracts it, and we can assume that mass is concentrated in the center of mass of (the center for simplicity) the system\n",
        "\n",
        "with G the gravitational constant, $r$ the radius, and $m(r)$ the mass contained within that radius we have the orbital velocity $v$:\n"
      ]
    },
    {
      "cell_type": "markdown",
      "metadata": {
        "id": "ZON0DKl5Qm2S",
        "run_control": {
          "frozen": false,
          "read_only": false
        }
      },
      "source": [
        "\n",
        "$v^2 = \\frac{G \\cdot m(r)}{r}$\n"
      ]
    },
    {
      "cell_type": "markdown",
      "metadata": {
        "id": "lVfy9lJ21xMT",
        "run_control": {
          "frozen": false,
          "read_only": false
        }
      },
      "source": [
        "Derive this $v^2\\propto\\frac{1}{r}$ from Newton's law $F~=~\\frac{GMm}{r^2}$. Write each formula and describe each step. You can use latex (you really just need to know ```\\frac{}``` and ```^```) and this reference\n",
        "https://www.physicsclassroom.com/calcpad/circgrav"
      ]
    },
    {
      "cell_type": "markdown",
      "metadata": {
        "id": "LGtFw8IvkQ_X"
      },
      "source": [
        "$ $"
      ]
    },
    {
      "cell_type": "markdown",
      "metadata": {
        "id": "HEB7hQojuAQt",
        "run_control": {
          "frozen": false,
          "read_only": false
        }
      },
      "source": [
        "eq1: a =$\\frac{v^2}{r}$ \n",
        "\n",
        "eq2: $F=ma$\n",
        "\n",
        "eq3: $F_g = \\frac{GMm}{r^2} $\n",
        "\n",
        "combine eq1 & eq2: $F=m\\frac{v^2}{r}$\n",
        "\n",
        "substitute for $F_g$ in eq3: $m\\frac{v^2}{r} = \\frac{GMm}{r^2} $\n",
        "\n",
        "divide both sides by $m$ and multiply by $r$: $v^2 = \\frac{GM}{r} $\n",
        "\n",
        "for relations of proportionality, constants such as $M$ and $G$ don't matter, which gives us:\n",
        "\n",
        "$v^2\\propto\\frac{1}{r}$"
      ]
    },
    {
      "cell_type": "markdown",
      "metadata": {
        "id": "KQAEJtWuOdCb",
        "run_control": {
          "frozen": false,
          "read_only": false
        }
      },
      "source": [
        "## M31 rotational curve"
      ]
    },
    {
      "cell_type": "markdown",
      "metadata": {
        "ExecuteTime": {
          "end_time": "2019-08-02T01:34:15.029084Z",
          "start_time": "2019-08-02T01:34:15.026604Z"
        },
        "id": "BTaXzFYeOdCc",
        "run_control": {
          "frozen": false,
          "read_only": false
        }
      },
      "source": [
        "# Galaxy Rotational Curves\n",
        "The data comes from [SOFUE 2015](http://www.ioa.s.u-tokyo.ac.jp/~sofue/htdocs/2015m31/2015-pasj-M31MW-DH.pdf)\n",
        "The data are plotted in Figure 3 and 4 for M31 and the Milky Way respectively, and hosted on [this website](http://www.ioa.s.u-tokyo.ac.jp/~sofue/htdocs/2015m31/)\n",
        "As described in the paper: \n",
        "Long and short bars represent modified standard deviations and errors, respectively\n",
        "\n",
        "#### Please read the last paragraphs of Section 2.1 of the paper to understand the meaning of these uncertainties:\n",
        "\n",
        "![figures](https://github.com/fedhere/DSPS_FBianco/blob/master/HW4/figures.png?raw=1)\n",
        "\n"
      ]
    },
    {
      "cell_type": "markdown",
      "metadata": {
        "ExecuteTime": {
          "end_time": "2019-09-22T00:10:02.465470Z",
          "start_time": "2019-09-22T00:10:02.455255Z"
        },
        "run_control": {
          "frozen": false,
          "read_only": false
        },
        "id": "pv07OwcGz2YZ"
      },
      "source": [
        "\n",
        "\n",
        "![text](https://github.com/fedhere/DSPS_FBianco/blob/master/HW4/text.png?raw=1)\n",
        "\n",
        "### data ingestion\n",
        "Get the data from the github repository https://github.com/fedhere/DSPS/tree/master/HW4 : there are 2 files: mw.csv and m31.csv. Start with M31, the Andromeda galaxy, Vera Rubin's original target."
      ]
    },
    {
      "cell_type": "markdown",
      "metadata": {
        "id": "_iFrkUYEV1SS",
        "run_control": {
          "frozen": false,
          "read_only": false
        }
      },
      "source": [
        "Note that the data contains 2 types of uncertainties: one significantly smaller than the other. The ```dv``` uncertainty is the propagation of the uncertainty in the location of the HII line. The uncertainty called ```err``` if the full error budget:  including _all_ sources of uncertainty and not just the uncertainty in measuring the location of the line. Retain both, you will test your hypothesis with each one to see if it matters which uncertainty you choose"
      ]
    },
    {
      "cell_type": "code",
      "metadata": {
        "id": "PFYBlhUjt8_e",
        "run_control": {
          "frozen": false,
          "read_only": false
        }
      },
      "source": [
        "m31 = pd.read_csv(\"https://raw.githubusercontent.com/fedhere/DSPS_FBianco/master/HW4/m31.csv\", sep=\",\")"
      ],
      "execution_count": 39,
      "outputs": []
    },
    {
      "cell_type": "code",
      "metadata": {
        "colab": {
          "base_uri": "https://localhost:8080/",
          "height": 204
        },
        "id": "luL5UrsNQ1M1",
        "run_control": {
          "frozen": false,
          "read_only": false
        },
        "outputId": "dcf8a39d-a9ef-4144-f26b-6786cb69e5ae"
      },
      "source": [
        "\n",
        "m31.head()"
      ],
      "execution_count": 40,
      "outputs": [
        {
          "output_type": "execute_result",
          "data": {
            "text/html": [
              "<div>\n",
              "<style scoped>\n",
              "    .dataframe tbody tr th:only-of-type {\n",
              "        vertical-align: middle;\n",
              "    }\n",
              "\n",
              "    .dataframe tbody tr th {\n",
              "        vertical-align: top;\n",
              "    }\n",
              "\n",
              "    .dataframe thead th {\n",
              "        text-align: right;\n",
              "    }\n",
              "</style>\n",
              "<table border=\"1\" class=\"dataframe\">\n",
              "  <thead>\n",
              "    <tr style=\"text-align: right;\">\n",
              "      <th></th>\n",
              "      <th>#M31</th>\n",
              "      <th>Grand</th>\n",
              "      <th>Rotation</th>\n",
              "      <th>Curve</th>\n",
              "    </tr>\n",
              "  </thead>\n",
              "  <tbody>\n",
              "    <tr>\n",
              "      <th>0</th>\n",
              "      <td>#R(kpc</td>\n",
              "      <td>V(km/s)</td>\n",
              "      <td>St.dev.</td>\n",
              "      <td>St.error</td>\n",
              "    </tr>\n",
              "    <tr>\n",
              "      <th>1</th>\n",
              "      <td>0.100</td>\n",
              "      <td>183.939</td>\n",
              "      <td>0.000</td>\n",
              "      <td>0.000</td>\n",
              "    </tr>\n",
              "    <tr>\n",
              "      <th>2</th>\n",
              "      <td>0.120</td>\n",
              "      <td>190.710</td>\n",
              "      <td>10.265</td>\n",
              "      <td>12.191</td>\n",
              "    </tr>\n",
              "    <tr>\n",
              "      <th>3</th>\n",
              "      <td>0.144</td>\n",
              "      <td>204.141</td>\n",
              "      <td>22.634</td>\n",
              "      <td>21.808</td>\n",
              "    </tr>\n",
              "    <tr>\n",
              "      <th>4</th>\n",
              "      <td>0.173</td>\n",
              "      <td>207.601</td>\n",
              "      <td>4.573</td>\n",
              "      <td>4.200</td>\n",
              "    </tr>\n",
              "  </tbody>\n",
              "</table>\n",
              "</div>"
            ],
            "text/plain": [
              "     #M31    Grand Rotation     Curve\n",
              "0  #R(kpc  V(km/s)  St.dev.  St.error\n",
              "1   0.100  183.939    0.000     0.000\n",
              "2   0.120  190.710   10.265    12.191\n",
              "3   0.144  204.141   22.634    21.808\n",
              "4   0.173  207.601    4.573     4.200"
            ]
          },
          "metadata": {},
          "execution_count": 40
        }
      ]
    },
    {
      "cell_type": "code",
      "metadata": {
        "ExecuteTime": {
          "end_time": "2019-08-02T01:35:26.395158Z",
          "start_time": "2019-08-02T01:35:26.373338Z"
        },
        "colab": {
          "base_uri": "https://localhost:8080/",
          "height": 172
        },
        "id": "QsNRokb1OdCh",
        "run_control": {
          "frozen": false,
          "read_only": false
        },
        "outputId": "f4060ae9-f47e-42a2-a84e-bc2b14dacda7"
      },
      "source": [
        "m31.describe()"
      ],
      "execution_count": 41,
      "outputs": [
        {
          "output_type": "execute_result",
          "data": {
            "text/html": [
              "<div>\n",
              "<style scoped>\n",
              "    .dataframe tbody tr th:only-of-type {\n",
              "        vertical-align: middle;\n",
              "    }\n",
              "\n",
              "    .dataframe tbody tr th {\n",
              "        vertical-align: top;\n",
              "    }\n",
              "\n",
              "    .dataframe thead th {\n",
              "        text-align: right;\n",
              "    }\n",
              "</style>\n",
              "<table border=\"1\" class=\"dataframe\">\n",
              "  <thead>\n",
              "    <tr style=\"text-align: right;\">\n",
              "      <th></th>\n",
              "      <th>#M31</th>\n",
              "      <th>Grand</th>\n",
              "      <th>Rotation</th>\n",
              "      <th>Curve</th>\n",
              "    </tr>\n",
              "  </thead>\n",
              "  <tbody>\n",
              "    <tr>\n",
              "      <th>count</th>\n",
              "      <td>56</td>\n",
              "      <td>56</td>\n",
              "      <td>56</td>\n",
              "      <td>56</td>\n",
              "    </tr>\n",
              "    <tr>\n",
              "      <th>unique</th>\n",
              "      <td>56</td>\n",
              "      <td>56</td>\n",
              "      <td>56</td>\n",
              "      <td>56</td>\n",
              "    </tr>\n",
              "    <tr>\n",
              "      <th>top</th>\n",
              "      <td>146.977</td>\n",
              "      <td>238.997</td>\n",
              "      <td>10.040</td>\n",
              "      <td>20.013</td>\n",
              "    </tr>\n",
              "    <tr>\n",
              "      <th>freq</th>\n",
              "      <td>1</td>\n",
              "      <td>1</td>\n",
              "      <td>1</td>\n",
              "      <td>1</td>\n",
              "    </tr>\n",
              "  </tbody>\n",
              "</table>\n",
              "</div>"
            ],
            "text/plain": [
              "           #M31    Grand Rotation   Curve\n",
              "count        56       56       56      56\n",
              "unique       56       56       56      56\n",
              "top     146.977  238.997   10.040  20.013\n",
              "freq          1        1        1       1"
            ]
          },
          "metadata": {},
          "execution_count": 41
        }
      ]
    },
    {
      "cell_type": "code",
      "metadata": {
        "id": "Csjv6NnOFYAX"
      },
      "source": [
        "m31Array = m31.to_numpy(dtype=None, copy=False)"
      ],
      "execution_count": 103,
      "outputs": []
    },
    {
      "cell_type": "markdown",
      "metadata": {
        "id": "Vv0Ut6vOOdCk",
        "run_control": {
          "frozen": false,
          "read_only": false
        }
      },
      "source": [
        "from https://en.wikipedia.org/wiki/Andromeda_Galaxy get the extent of the luminous component of M31 (Andromeda). The distance of the Galaxy multiplied by the angular size will give you this information from basic trigonometry (make sure you convert the units properly, using astropy). Make sure you include the uncertainties! uncertainties in the distance will give you the uncertainty in the size\n",
        "   \n",
        " "
      ]
    },
    {
      "cell_type": "code",
      "metadata": {
        "id": "0PUCG9N913vy"
      },
      "source": [
        "kiloparsec = u.parsec/1000"
      ],
      "execution_count": 49,
      "outputs": []
    },
    {
      "cell_type": "code",
      "metadata": {
        "id": "kvIFr6D778ri",
        "run_control": {
          "frozen": false,
          "read_only": false
        }
      },
      "source": [
        "distanceM31 = (1.606 * (10**11)) * u.astronomical_unit\n",
        "distanceM31 = distanceM31.to(u.kiloparsec) #unit conversion\n",
        "\n",
        "apparentSizeM31 = 4.96 #deg"
      ],
      "execution_count": 60,
      "outputs": []
    },
    {
      "cell_type": "code",
      "metadata": {
        "ExecuteTime": {
          "end_time": "2019-08-02T01:35:41.413407Z",
          "start_time": "2019-08-02T01:35:41.408764Z"
        },
        "colab": {
          "base_uri": "https://localhost:8080/"
        },
        "id": "tzGNh98hOdCl",
        "run_control": {
          "frozen": false,
          "read_only": false
        },
        "outputId": "fe158eb9-83fe-4d3c-ea66-3140cce7543d"
      },
      "source": [
        "# note : by PEP8 standards the import should be at the top, I leave it here for hyou to see that I am using astropy.units now\n",
        "from astropy import units as u\n",
        "m31angS = apparentSizeM31 * u.degree\n",
        "print(\"Angular Size of the visible component of Andromeda: {:.3f}\".format(m31angS.to(u.rad)  ))"
      ],
      "execution_count": 68,
      "outputs": [
        {
          "output_type": "stream",
          "name": "stdout",
          "text": [
            "Angular Size of the visible component of Andromeda: 0.087 rad\n"
          ]
        }
      ]
    },
    {
      "cell_type": "markdown",
      "metadata": {
        "id": "cOw0Y4KNWTOZ",
        "run_control": {
          "frozen": false,
          "read_only": false
        }
      },
      "source": [
        "Please make sure you print a sensible number of decimal digits! you have a  number of significant digits set by the number of digit in the info you get from wikipedia"
      ]
    },
    {
      "cell_type": "markdown",
      "metadata": {
        "id": "hF2wXZ988QgS",
        "run_control": {
          "frozen": false,
          "read_only": false
        }
      },
      "source": [
        "The distance, from Wikipedia, will have an uncertainty. Convert both to kiloparsecs Kpc"
      ]
    },
    {
      "cell_type": "code",
      "metadata": {
        "ExecuteTime": {
          "end_time": "2019-08-02T01:35:42.257553Z",
          "start_time": "2019-08-02T01:35:42.254539Z"
        },
        "id": "7-nEP6KrOdCo",
        "run_control": {
          "frozen": false,
          "read_only": false
        }
      },
      "source": [
        "distanceM31uncertainty = (7.0 * (10**9)) * u.astronomical_unit\n",
        "distanceM31uncertainty = distanceM31uncertainty.to(u.kiloparsec)\n",
        "\n",
        "diameterM31 = 2 * distanceM31 * sin((m31angS.to(u.rad)) / 2)\n",
        "diameterM31uncertainty = 2 * (distanceM31 + distanceM31uncertainty) * sin((m31angS.to(u.rad)) / 2) - diameterM31"
      ],
      "execution_count": 92,
      "outputs": []
    },
    {
      "cell_type": "code",
      "metadata": {
        "ExecuteTime": {
          "end_time": "2019-08-02T01:35:42.815232Z",
          "start_time": "2019-08-02T01:35:42.810316Z"
        },
        "colab": {
          "base_uri": "https://localhost:8080/"
        },
        "id": "0y_V9AuFOdCv",
        "run_control": {
          "frozen": false,
          "read_only": false
        },
        "outputId": "213b81b9-7030-4f66-900d-b5b2f0634380"
      },
      "source": [
        "print(\"distance to  Andromeda:  {:.1f}\".format(distanceM31))\n",
        "print(\"Uncertainty in Andromeda's distance:  {:.0f}\\n\".format(distanceM31uncertainty))\n",
        "print(\"Size of the visible component of Andromeda:  {:.1f}\".format(diameterM31))\n",
        "print(\"Uncertainty in Andromeda's visible diameter:  {:.1f}\\n\".format(diameterM31uncertainty))\n",
        "print(\"Angular Size of the visible component of Andromeda: {:.2f}\".format(m31angS))"
      ],
      "execution_count": 95,
      "outputs": [
        {
          "output_type": "stream",
          "name": "stdout",
          "text": [
            "distance to  Andromeda:  778.6 kpc\n",
            "Uncertainty in Andromeda's distance:  34 kpc\n",
            "\n",
            "Size of the visible component of Andromeda:  67.4 kpc\n",
            "Uncertainty in Andromeda's visible diameter:  2.9 kpc\n",
            "\n",
            "Angular Size of the visible component of Andromeda: 4.96 deg\n"
          ]
        }
      ]
    },
    {
      "cell_type": "markdown",
      "metadata": {
        "id": "_pTXgdTL8jv6",
        "run_control": {
          "frozen": false,
          "read_only": false
        }
      },
      "source": [
        "Print the distance like I printed the angular size. \n",
        "\n",
        "To get the physical size of the visible component of andtomeda you can use simple trigonometry: $y = r * sin(\\alpha) ~ \\sim ~ r \\alpha $ for small angles \n",
        "\n",
        "\n",
        "Print the physical size of the Andromeda galaxy (remember decimal digits, proper formatting etc etc). \n"
      ]
    },
    {
      "cell_type": "markdown",
      "metadata": {
        "id": "97o52hRhOdCy",
        "run_control": {
          "frozen": false,
          "read_only": false
        }
      },
      "source": [
        "### find the first measurement  in your data table that includes all the luminous mass. \n",
        "\n",
        "What is the smallest radius in your data where the luminous mass is completely included and what is the veolcity at that radius?\n",
        "You can do it by broadcasting (see homework 3)"
      ]
    },
    {
      "cell_type": "markdown",
      "metadata": {
        "id": "TVWiU84XOdDA",
        "run_control": {
          "frozen": false,
          "read_only": false
        }
      },
      "source": [
        "We expect the velocity to decrease as 1/r if all mass is included: the velocity at a radius twice as far as the radius that includes all the mass should be a factor 2 slower, three times as far a factor 3 slower. "
      ]
    },
    {
      "cell_type": "markdown",
      "metadata": {
        "id": "b096Ax33SiXl",
        "run_control": {
          "frozen": false,
          "read_only": false
        }
      },
      "source": [
        "write a function that \n",
        "\n",
        "1. finds the smallest radius in the dataset that is at least N times the radius of the visible galaxy, \n",
        "\n",
        "2. takes as arguments:\n",
        "    - the data and \n",
        "    - N \n",
        "    - the size of the luminous component of the galaxy\n",
        " \n",
        "2. Returns the value of the radius and its uncertainty and the velocity and its uncertainty"
      ]
    },
    {
      "cell_type": "markdown",
      "metadata": {
        "id": "nipbEGpIkd_Z"
      },
      "source": [
        "remember that ($v^2\\propto\\frac{1}{r}$) and that the The ```dv``` uncertainty is the propagation of the uncertainty in the **location** of the HII line"
      ]
    },
    {
      "cell_type": "code",
      "metadata": {
        "ExecuteTime": {
          "end_time": "2019-08-02T02:07:26.053511Z",
          "start_time": "2019-08-02T02:07:26.046677Z"
        },
        "id": "-_O34Bb7OdC2",
        "run_control": {
          "frozen": false,
          "read_only": false
        }
      },
      "source": [
        "#I am assuming that gal is the data value, and that it is the dataframe\n",
        "#I also assumed that gsize is a diameter, and NOT a radius\n",
        "def getradii(gal, gsize, n):\n",
        "  dataArray = gal.to_numpy(dtype=None, copy=False)  #converts the dataframe to an array\n",
        "  dataArray = dataArray[1:]\n",
        "  \n",
        "  #obtains the minimum radius that meets the criteria and the corrasponding V(km/s), St.dev., and St.error\n",
        "  filteredArray = []\n",
        "  #Finds set of elements where the radius is greater than or equal to n times the visible galactic radius\n",
        "  for i in dataArray:\n",
        "    if float(i[0]) >= (gsize/2 * n):\n",
        "      filteredArray.append(i)\n",
        "  #Finds smallest value of R from the new, filtered set of elements\n",
        "  minRadius = filteredArray[0][0];\n",
        "  minRadElement = filteredArray[0]\n",
        "  for i in filteredArray:\n",
        "    if float(i[0]<minRadius):\n",
        "      minRadius = i[0]\n",
        "      minRadElement = i\n",
        "  \n",
        "  # minRadElement[3] is standard deviation, which applies to the location/radius of the HII line\n",
        "  radUncertainty = minRadElement[2]\n",
        "\n",
        "  # apply the inverse relation stated in the above text to find the velocity uncertainty\n",
        "  velUncertainty = (np.sqrt(radUncertainty))**-1\n",
        "\n",
        "  return [minRadius, radUncertainty, minRadElement[1], velUncertainty]\n",
        "  "
      ],
      "execution_count": 119,
      "outputs": []
    },
    {
      "cell_type": "markdown",
      "metadata": {
        "ExecuteTime": {
          "end_time": "2019-08-01T18:13:58.231637Z",
          "start_time": "2019-08-01T18:13:58.229447Z"
        },
        "id": "ogu_iquzOdC5",
        "run_control": {
          "frozen": false,
          "read_only": false
        }
      },
      "source": [
        "### data visualization"
      ]
    },
    {
      "cell_type": "markdown",
      "metadata": {
        "id": "kJ6MujVJUyel",
        "run_control": {
          "frozen": false,
          "read_only": false
        }
      },
      "source": [
        "make a plot that shows\n",
        "\n",
        "1. the rotational curve of the galaxy (as a line)\n",
        "\n",
        "2. each velocity as an errorbar with error equal to err in the same color as the line in 1\n",
        "\n",
        "3. each velocity as an errorbar with error equal to dv in  the same color but a different line thickness\n",
        "\n",
        "\n",
        "4. the datapoint corresponding to N=1, 2, 3 each in a different color. \n",
        "\n",
        "5. add a legend that indicates the meaning of each color (```pl.legend()```)\n",
        "\n",
        "6. add a text that indicates the velocity and its uncertainty (dv and err) just below the largest errorbar (```pl.text()```)\n",
        "\n",
        "7. limit the x axis to the \"relevant\" portion of the data"
      ]
    },
    {
      "cell_type": "code",
      "metadata": {
        "id": "1bKPWTB3ojZs",
        "outputId": "99c3373d-4e38-47a7-e811-9f76ab497b64",
        "colab": {
          "base_uri": "https://localhost:8080/",
          "height": 1000
        }
      },
      "source": [
        "m31"
      ],
      "execution_count": 121,
      "outputs": [
        {
          "output_type": "execute_result",
          "data": {
            "text/html": [
              "<div>\n",
              "<style scoped>\n",
              "    .dataframe tbody tr th:only-of-type {\n",
              "        vertical-align: middle;\n",
              "    }\n",
              "\n",
              "    .dataframe tbody tr th {\n",
              "        vertical-align: top;\n",
              "    }\n",
              "\n",
              "    .dataframe thead th {\n",
              "        text-align: right;\n",
              "    }\n",
              "</style>\n",
              "<table border=\"1\" class=\"dataframe\">\n",
              "  <thead>\n",
              "    <tr style=\"text-align: right;\">\n",
              "      <th></th>\n",
              "      <th>#M31</th>\n",
              "      <th>Grand</th>\n",
              "      <th>Rotation</th>\n",
              "      <th>Curve</th>\n",
              "    </tr>\n",
              "  </thead>\n",
              "  <tbody>\n",
              "    <tr>\n",
              "      <th>0</th>\n",
              "      <td>#R(kpc</td>\n",
              "      <td>V(km/s)</td>\n",
              "      <td>St.dev.</td>\n",
              "      <td>St.error</td>\n",
              "    </tr>\n",
              "    <tr>\n",
              "      <th>1</th>\n",
              "      <td>0.100</td>\n",
              "      <td>183.939</td>\n",
              "      <td>0.000</td>\n",
              "      <td>0.000</td>\n",
              "    </tr>\n",
              "    <tr>\n",
              "      <th>2</th>\n",
              "      <td>0.120</td>\n",
              "      <td>190.710</td>\n",
              "      <td>10.265</td>\n",
              "      <td>12.191</td>\n",
              "    </tr>\n",
              "    <tr>\n",
              "      <th>3</th>\n",
              "      <td>0.144</td>\n",
              "      <td>204.141</td>\n",
              "      <td>22.634</td>\n",
              "      <td>21.808</td>\n",
              "    </tr>\n",
              "    <tr>\n",
              "      <th>4</th>\n",
              "      <td>0.173</td>\n",
              "      <td>207.601</td>\n",
              "      <td>4.573</td>\n",
              "      <td>4.200</td>\n",
              "    </tr>\n",
              "    <tr>\n",
              "      <th>5</th>\n",
              "      <td>0.207</td>\n",
              "      <td>210.188</td>\n",
              "      <td>3.943</td>\n",
              "      <td>3.258</td>\n",
              "    </tr>\n",
              "    <tr>\n",
              "      <th>6</th>\n",
              "      <td>0.249</td>\n",
              "      <td>213.512</td>\n",
              "      <td>4.218</td>\n",
              "      <td>3.190</td>\n",
              "    </tr>\n",
              "    <tr>\n",
              "      <th>7</th>\n",
              "      <td>0.299</td>\n",
              "      <td>217.208</td>\n",
              "      <td>3.813</td>\n",
              "      <td>2.623</td>\n",
              "    </tr>\n",
              "    <tr>\n",
              "      <th>8</th>\n",
              "      <td>0.358</td>\n",
              "      <td>219.673</td>\n",
              "      <td>2.181</td>\n",
              "      <td>1.371</td>\n",
              "    </tr>\n",
              "    <tr>\n",
              "      <th>9</th>\n",
              "      <td>0.430</td>\n",
              "      <td>219.357</td>\n",
              "      <td>2.193</td>\n",
              "      <td>1.259</td>\n",
              "    </tr>\n",
              "    <tr>\n",
              "      <th>10</th>\n",
              "      <td>0.516</td>\n",
              "      <td>216.163</td>\n",
              "      <td>3.740</td>\n",
              "      <td>1.961</td>\n",
              "    </tr>\n",
              "    <tr>\n",
              "      <th>11</th>\n",
              "      <td>0.619</td>\n",
              "      <td>213.670</td>\n",
              "      <td>10.942</td>\n",
              "      <td>5.126</td>\n",
              "    </tr>\n",
              "    <tr>\n",
              "      <th>12</th>\n",
              "      <td>0.743</td>\n",
              "      <td>219.492</td>\n",
              "      <td>22.599</td>\n",
              "      <td>8.621</td>\n",
              "    </tr>\n",
              "    <tr>\n",
              "      <th>13</th>\n",
              "      <td>0.892</td>\n",
              "      <td>221.290</td>\n",
              "      <td>30.697</td>\n",
              "      <td>11.225</td>\n",
              "    </tr>\n",
              "    <tr>\n",
              "      <th>14</th>\n",
              "      <td>1.070</td>\n",
              "      <td>235.332</td>\n",
              "      <td>55.712</td>\n",
              "      <td>22.146</td>\n",
              "    </tr>\n",
              "    <tr>\n",
              "      <th>15</th>\n",
              "      <td>1.284</td>\n",
              "      <td>242.833</td>\n",
              "      <td>57.034</td>\n",
              "      <td>23.299</td>\n",
              "    </tr>\n",
              "    <tr>\n",
              "      <th>16</th>\n",
              "      <td>1.541</td>\n",
              "      <td>248.298</td>\n",
              "      <td>52.402</td>\n",
              "      <td>20.013</td>\n",
              "    </tr>\n",
              "    <tr>\n",
              "      <th>17</th>\n",
              "      <td>1.849</td>\n",
              "      <td>252.880</td>\n",
              "      <td>50.568</td>\n",
              "      <td>18.476</td>\n",
              "    </tr>\n",
              "    <tr>\n",
              "      <th>18</th>\n",
              "      <td>2.219</td>\n",
              "      <td>245.013</td>\n",
              "      <td>35.176</td>\n",
              "      <td>12.065</td>\n",
              "    </tr>\n",
              "    <tr>\n",
              "      <th>19</th>\n",
              "      <td>2.662</td>\n",
              "      <td>238.997</td>\n",
              "      <td>16.512</td>\n",
              "      <td>5.510</td>\n",
              "    </tr>\n",
              "    <tr>\n",
              "      <th>20</th>\n",
              "      <td>3.195</td>\n",
              "      <td>236.551</td>\n",
              "      <td>9.233</td>\n",
              "      <td>3.016</td>\n",
              "    </tr>\n",
              "    <tr>\n",
              "      <th>21</th>\n",
              "      <td>3.834</td>\n",
              "      <td>228.432</td>\n",
              "      <td>21.131</td>\n",
              "      <td>5.991</td>\n",
              "    </tr>\n",
              "    <tr>\n",
              "      <th>22</th>\n",
              "      <td>4.601</td>\n",
              "      <td>222.712</td>\n",
              "      <td>30.371</td>\n",
              "      <td>7.494</td>\n",
              "    </tr>\n",
              "    <tr>\n",
              "      <th>23</th>\n",
              "      <td>5.521</td>\n",
              "      <td>229.124</td>\n",
              "      <td>29.037</td>\n",
              "      <td>6.397</td>\n",
              "    </tr>\n",
              "    <tr>\n",
              "      <th>24</th>\n",
              "      <td>6.625</td>\n",
              "      <td>243.192</td>\n",
              "      <td>23.592</td>\n",
              "      <td>5.252</td>\n",
              "    </tr>\n",
              "    <tr>\n",
              "      <th>25</th>\n",
              "      <td>7.950</td>\n",
              "      <td>255.379</td>\n",
              "      <td>18.499</td>\n",
              "      <td>3.929</td>\n",
              "    </tr>\n",
              "    <tr>\n",
              "      <th>26</th>\n",
              "      <td>9.540</td>\n",
              "      <td>261.368</td>\n",
              "      <td>14.674</td>\n",
              "      <td>2.828</td>\n",
              "    </tr>\n",
              "    <tr>\n",
              "      <th>27</th>\n",
              "      <td>11.448</td>\n",
              "      <td>263.490</td>\n",
              "      <td>11.448</td>\n",
              "      <td>2.129</td>\n",
              "    </tr>\n",
              "    <tr>\n",
              "      <th>28</th>\n",
              "      <td>13.737</td>\n",
              "      <td>262.795</td>\n",
              "      <td>10.040</td>\n",
              "      <td>1.772</td>\n",
              "    </tr>\n",
              "    <tr>\n",
              "      <th>29</th>\n",
              "      <td>16.484</td>\n",
              "      <td>257.345</td>\n",
              "      <td>12.162</td>\n",
              "      <td>1.975</td>\n",
              "    </tr>\n",
              "    <tr>\n",
              "      <th>30</th>\n",
              "      <td>19.781</td>\n",
              "      <td>246.140</td>\n",
              "      <td>13.446</td>\n",
              "      <td>1.989</td>\n",
              "    </tr>\n",
              "    <tr>\n",
              "      <th>31</th>\n",
              "      <td>23.738</td>\n",
              "      <td>236.511</td>\n",
              "      <td>11.729</td>\n",
              "      <td>1.580</td>\n",
              "    </tr>\n",
              "    <tr>\n",
              "      <th>32</th>\n",
              "      <td>28.485</td>\n",
              "      <td>232.335</td>\n",
              "      <td>16.577</td>\n",
              "      <td>2.106</td>\n",
              "    </tr>\n",
              "    <tr>\n",
              "      <th>33</th>\n",
              "      <td>34.182</td>\n",
              "      <td>233.530</td>\n",
              "      <td>27.353</td>\n",
              "      <td>3.826</td>\n",
              "    </tr>\n",
              "    <tr>\n",
              "      <th>34</th>\n",
              "      <td>41.019</td>\n",
              "      <td>230.444</td>\n",
              "      <td>52.432</td>\n",
              "      <td>9.815</td>\n",
              "    </tr>\n",
              "    <tr>\n",
              "      <th>35</th>\n",
              "      <td>49.222</td>\n",
              "      <td>237.069</td>\n",
              "      <td>109.381</td>\n",
              "      <td>23.924</td>\n",
              "    </tr>\n",
              "    <tr>\n",
              "      <th>36</th>\n",
              "      <td>59.067</td>\n",
              "      <td>249.443</td>\n",
              "      <td>134.552</td>\n",
              "      <td>26.447</td>\n",
              "    </tr>\n",
              "    <tr>\n",
              "      <th>37</th>\n",
              "      <td>70.880</td>\n",
              "      <td>218.489</td>\n",
              "      <td>132.355</td>\n",
              "      <td>24.657</td>\n",
              "    </tr>\n",
              "    <tr>\n",
              "      <th>38</th>\n",
              "      <td>85.056</td>\n",
              "      <td>206.603</td>\n",
              "      <td>135.003</td>\n",
              "      <td>27.258</td>\n",
              "    </tr>\n",
              "    <tr>\n",
              "      <th>39</th>\n",
              "      <td>102.068</td>\n",
              "      <td>213.002</td>\n",
              "      <td>132.456</td>\n",
              "      <td>29.321</td>\n",
              "    </tr>\n",
              "    <tr>\n",
              "      <th>40</th>\n",
              "      <td>122.481</td>\n",
              "      <td>197.383</td>\n",
              "      <td>105.727</td>\n",
              "      <td>23.358</td>\n",
              "    </tr>\n",
              "    <tr>\n",
              "      <th>41</th>\n",
              "      <td>146.977</td>\n",
              "      <td>177.521</td>\n",
              "      <td>81.762</td>\n",
              "      <td>16.662</td>\n",
              "    </tr>\n",
              "    <tr>\n",
              "      <th>42</th>\n",
              "      <td>176.373</td>\n",
              "      <td>165.325</td>\n",
              "      <td>74.652</td>\n",
              "      <td>15.706</td>\n",
              "    </tr>\n",
              "    <tr>\n",
              "      <th>43</th>\n",
              "      <td>211.647</td>\n",
              "      <td>165.134</td>\n",
              "      <td>76.929</td>\n",
              "      <td>18.733</td>\n",
              "    </tr>\n",
              "    <tr>\n",
              "      <th>44</th>\n",
              "      <td>253.977</td>\n",
              "      <td>160.787</td>\n",
              "      <td>77.400</td>\n",
              "      <td>22.720</td>\n",
              "    </tr>\n",
              "    <tr>\n",
              "      <th>45</th>\n",
              "      <td>304.772</td>\n",
              "      <td>151.102</td>\n",
              "      <td>74.793</td>\n",
              "      <td>27.879</td>\n",
              "    </tr>\n",
              "    <tr>\n",
              "      <th>46</th>\n",
              "      <td>365.727</td>\n",
              "      <td>121.974</td>\n",
              "      <td>96.480</td>\n",
              "      <td>43.431</td>\n",
              "    </tr>\n",
              "    <tr>\n",
              "      <th>47</th>\n",
              "      <td>438.872</td>\n",
              "      <td>168.303</td>\n",
              "      <td>125.736</td>\n",
              "      <td>51.482</td>\n",
              "    </tr>\n",
              "    <tr>\n",
              "      <th>48</th>\n",
              "      <td>526.647</td>\n",
              "      <td>200.545</td>\n",
              "      <td>123.350</td>\n",
              "      <td>52.949</td>\n",
              "    </tr>\n",
              "    <tr>\n",
              "      <th>49</th>\n",
              "      <td>631.976</td>\n",
              "      <td>238.973</td>\n",
              "      <td>147.835</td>\n",
              "      <td>36.195</td>\n",
              "    </tr>\n",
              "    <tr>\n",
              "      <th>50</th>\n",
              "      <td>758.371</td>\n",
              "      <td>248.069</td>\n",
              "      <td>145.005</td>\n",
              "      <td>19.716</td>\n",
              "    </tr>\n",
              "    <tr>\n",
              "      <th>51</th>\n",
              "      <td>910.046</td>\n",
              "      <td>250.377</td>\n",
              "      <td>141.353</td>\n",
              "      <td>22.663</td>\n",
              "    </tr>\n",
              "    <tr>\n",
              "      <th>52</th>\n",
              "      <td>1092.055</td>\n",
              "      <td>241.900</td>\n",
              "      <td>138.657</td>\n",
              "      <td>39.031</td>\n",
              "    </tr>\n",
              "    <tr>\n",
              "      <th>53</th>\n",
              "      <td>1310.466</td>\n",
              "      <td>235.039</td>\n",
              "      <td>103.480</td>\n",
              "      <td>46.508</td>\n",
              "    </tr>\n",
              "    <tr>\n",
              "      <th>54</th>\n",
              "      <td>1572.559</td>\n",
              "      <td>332.734</td>\n",
              "      <td>109.504</td>\n",
              "      <td>54.110</td>\n",
              "    </tr>\n",
              "    <tr>\n",
              "      <th>55</th>\n",
              "      <td>1887.071</td>\n",
              "      <td>414.942</td>\n",
              "      <td>69.579</td>\n",
              "      <td>27.931</td>\n",
              "    </tr>\n",
              "  </tbody>\n",
              "</table>\n",
              "</div>"
            ],
            "text/plain": [
              "        #M31    Grand Rotation     Curve\n",
              "0     #R(kpc  V(km/s)  St.dev.  St.error\n",
              "1      0.100  183.939    0.000     0.000\n",
              "2      0.120  190.710   10.265    12.191\n",
              "3      0.144  204.141   22.634    21.808\n",
              "4      0.173  207.601    4.573     4.200\n",
              "5      0.207  210.188    3.943     3.258\n",
              "6      0.249  213.512    4.218     3.190\n",
              "7      0.299  217.208    3.813     2.623\n",
              "8      0.358  219.673    2.181     1.371\n",
              "9      0.430  219.357    2.193     1.259\n",
              "10     0.516  216.163    3.740     1.961\n",
              "11     0.619  213.670   10.942     5.126\n",
              "12     0.743  219.492   22.599     8.621\n",
              "13     0.892  221.290   30.697    11.225\n",
              "14     1.070  235.332   55.712    22.146\n",
              "15     1.284  242.833   57.034    23.299\n",
              "16     1.541  248.298   52.402    20.013\n",
              "17     1.849  252.880   50.568    18.476\n",
              "18     2.219  245.013   35.176    12.065\n",
              "19     2.662  238.997   16.512     5.510\n",
              "20     3.195  236.551    9.233     3.016\n",
              "21     3.834  228.432   21.131     5.991\n",
              "22     4.601  222.712   30.371     7.494\n",
              "23     5.521  229.124   29.037     6.397\n",
              "24     6.625  243.192   23.592     5.252\n",
              "25     7.950  255.379   18.499     3.929\n",
              "26     9.540  261.368   14.674     2.828\n",
              "27    11.448  263.490   11.448     2.129\n",
              "28    13.737  262.795   10.040     1.772\n",
              "29    16.484  257.345   12.162     1.975\n",
              "30    19.781  246.140   13.446     1.989\n",
              "31    23.738  236.511   11.729     1.580\n",
              "32    28.485  232.335   16.577     2.106\n",
              "33    34.182  233.530   27.353     3.826\n",
              "34    41.019  230.444   52.432     9.815\n",
              "35    49.222  237.069  109.381    23.924\n",
              "36    59.067  249.443  134.552    26.447\n",
              "37    70.880  218.489  132.355    24.657\n",
              "38    85.056  206.603  135.003    27.258\n",
              "39   102.068  213.002  132.456    29.321\n",
              "40   122.481  197.383  105.727    23.358\n",
              "41   146.977  177.521   81.762    16.662\n",
              "42   176.373  165.325   74.652    15.706\n",
              "43   211.647  165.134   76.929    18.733\n",
              "44   253.977  160.787   77.400    22.720\n",
              "45   304.772  151.102   74.793    27.879\n",
              "46   365.727  121.974   96.480    43.431\n",
              "47   438.872  168.303  125.736    51.482\n",
              "48   526.647  200.545  123.350    52.949\n",
              "49   631.976  238.973  147.835    36.195\n",
              "50   758.371  248.069  145.005    19.716\n",
              "51   910.046  250.377  141.353    22.663\n",
              "52  1092.055  241.900  138.657    39.031\n",
              "53  1310.466  235.039  103.480    46.508\n",
              "54  1572.559  332.734  109.504    54.110\n",
              "55  1887.071  414.942   69.579    27.931"
            ]
          },
          "metadata": {},
          "execution_count": 121
        }
      ]
    },
    {
      "cell_type": "code",
      "metadata": {
        "ExecuteTime": {
          "end_time": "2019-08-02T03:01:27.556063Z",
          "start_time": "2019-08-02T03:01:27.302184Z"
        },
        "colab": {
          "base_uri": "https://localhost:8080/",
          "height": 283
        },
        "id": "7IMXYY8BOdC6",
        "run_control": {
          "frozen": false,
          "read_only": false
        },
        "outputId": "aab0a8db-fd5e-45b5-eac1-f7607714b22f"
      },
      "source": [
        "def plotGal(gal):\n",
        "  gArray = gal.to_numpy(dtype=None, copy=False)\n",
        "  gArray = gArray[1:]\n",
        "  gArray = gArray.astype(float)\n",
        "\n",
        "  data = {\n",
        "      'radius (kpc)': gArray[:][0],\n",
        "      'velocity (km/s)': gArray[:][1]\n",
        "  }\n",
        "  df = pd.DataFrame(data,columns=['radius (kpc)','velocity (km/s)'])\n",
        "  x=df.iloc[:,0]\n",
        "  y=df.iloc[:,1]\n",
        "  plt.xlabel('radius (kpc)')\n",
        "  plt.ylabel('velocity (km/s)')\n",
        "  plt.plot(x,y)\n",
        "  pl.show()\n",
        "plotGal(m31)#, m31Rds\n",
        "\n",
        "#I dont know what I did wrong :("
      ],
      "execution_count": 178,
      "outputs": [
        {
          "output_type": "display_data",
          "data": {
            "image/png": "[encoded data removed]",
            "text/plain": [
              "<Figure size 432x288 with 1 Axes>"
            ]
          },
          "metadata": {
            "needs_background": "light"
          }
        }
      ]
    },
    {
      "cell_type": "markdown",
      "metadata": {
        "id": "_kFXzmZpsQrg"
      },
      "source": [
        "![default graph.png](data:image/png;base64,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)"
      ]
    },
    {
      "cell_type": "markdown",
      "metadata": {
        "id": "bIbv3YrhTo0X",
        "run_control": {
          "frozen": false,
          "read_only": false
        }
      },
      "source": [
        "Write a function that for a given dataset and a given luminous radius and a given N \n",
        "  \n",
        "  1) uses the function above to find the radius at least as large as needed and the velocity at that radius, \n",
        "  \n",
        "  2) states the expected drop in rotational velocities according to Newton's law $v^2\\propto 1/r$\n",
        "  \n",
        "  3) calculates the ratio of radii and the ratio of velocities at N radii from the center N=1 and N=N (input, e.g. 2, 3 etc) with uncertainties, \n",
        "  \n",
        "  4) and stated whether that ratio is consistent within the uncertainties with Newton's law $v^2 \\propto 1/r$\n",
        "  \n",
        "Your function should print \n",
        "\n",
        "     - the expected ratio based on the radii, \n",
        "     - the calculated ratio using ```dv```, and its uncertainty, - \n",
        "     - the 2-$\\sigma$ upper and lower limits of the calculated ratio\n",
        "     - whether the expected ratio is within the $2-\\sigma$ of the calculated ratio, \n",
        "  5) and the same using ```err```  instead of ```dv```"
      ]
    },
    {
      "cell_type": "code",
      "metadata": {
        "ExecuteTime": {
          "end_time": "2019-08-02T02:22:18.485172Z",
          "start_time": "2019-08-02T02:22:18.477807Z"
        },
        "id": "1hhTw8N4OdDB",
        "run_control": {
          "frozen": false,
          "read_only": false
        }
      },
      "source": [
        "def vratios(gal, rds, rd, err='dv'):\n",
        "      ..."
      ],
      "execution_count": null,
      "outputs": []
    },
    {
      "cell_type": "code",
      "metadata": {
        "ExecuteTime": {
          "end_time": "2019-08-02T02:22:20.233692Z",
          "start_time": "2019-08-02T02:22:20.225631Z"
        },
        "id": "8TPkTIthOdDI",
        "run_control": {
          "frozen": false,
          "read_only": false
        }
      },
      "source": [
        "# your code here"
      ],
      "execution_count": null,
      "outputs": []
    },
    {
      "cell_type": "markdown",
      "metadata": {
        "ExecuteTime": {
          "end_time": "2019-08-02T00:36:41.637045Z",
          "start_time": "2019-08-02T00:36:41.634825Z"
        },
        "id": "6me5k4c1OdDY",
        "run_control": {
          "frozen": false,
          "read_only": false
        }
      },
      "source": [
        "### Discuss!"
      ]
    },
    {
      "cell_type": "markdown",
      "metadata": {
        "id": "QIHRn8UlOdDZ",
        "run_control": {
          "frozen": false,
          "read_only": false
        }
      },
      "source": [
        "## do the same for the Milky Way. If your functions were create properly you should be able to reuse them seamlessly"
      ]
    },
    {
      "cell_type": "code",
      "metadata": {
        "id": "NVp9cJzv-Dic",
        "run_control": {
          "frozen": false,
          "read_only": false
        }
      },
      "source": [
        "# your code here"
      ],
      "execution_count": null,
      "outputs": []
    }
  ]
}