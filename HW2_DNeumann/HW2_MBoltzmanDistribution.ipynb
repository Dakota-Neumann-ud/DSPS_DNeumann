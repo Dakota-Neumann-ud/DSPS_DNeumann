{
  "nbformat": 4,
  "nbformat_minor": 0,
  "metadata": {
    "colab": {
      "name": "HW2 MBoltzmanDistribution.ipynb",
      "provenance": [],
      "collapsed_sections": []
    },
    "kernelspec": {
      "display_name": "Python 3",
      "language": "python",
      "name": "python3"
    },
    "language_info": {
      "codemirror_mode": {
        "name": "ipython",
        "version": 3
      },
      "file_extension": ".py",
      "mimetype": "text/x-python",
      "name": "python",
      "nbconvert_exporter": "python",
      "pygments_lexer": "ipython3",
      "version": "3.7.3"
    },
    "latex_envs": {
      "LaTeX_envs_menu_present": true,
      "autoclose": false,
      "autocomplete": true,
      "bibliofile": "biblio.bib",
      "cite_by": "apalike",
      "current_citInitial": 1,
      "eqLabelWithNumbers": true,
      "eqNumInitial": 1,
      "hotkeys": {
        "equation": "Ctrl-E",
        "itemize": "Ctrl-I"
      },
      "labels_anchors": false,
      "latex_user_defs": false,
      "report_style_numbering": false,
      "user_envs_cfg": false
    },
    "nbTranslate": {
      "displayLangs": [
        "*"
      ],
      "hotkey": "alt-t",
      "langInMainMenu": true,
      "sourceLang": "en",
      "targetLang": "fr",
      "useGoogleTranslate": true
    },
    "toc": {
      "base_numbering": 1,
      "nav_menu": {},
      "number_sections": true,
      "sideBar": true,
      "skip_h1_title": false,
      "title_cell": "Table of Contents",
      "title_sidebar": "Contents",
      "toc_cell": false,
      "toc_position": {},
      "toc_section_display": true,
      "toc_window_display": false
    }
  },
  "cells": [
    {
      "cell_type": "markdown",
      "metadata": {
        "ExecuteTime": {
          "end_time": "2019-09-04T04:50:01.872913Z",
          "start_time": "2019-09-04T04:50:01.869703Z"
        },
        "id": "dk3tkh__KvAc"
      },
      "source": [
        "Original Written by Federica B. Bianco @fedhere\n",
        "UDel DSPS\n",
        "\n",
        "**Work Completed by Dakota Neumann**"
      ]
    },
    {
      "cell_type": "code",
      "metadata": {
        "ExecuteTime": {
          "end_time": "2019-09-07T17:36:53.625807Z",
          "start_time": "2019-09-07T17:36:53.393906Z"
        },
        "colab": {
          "base_uri": "https://localhost:8080/"
        },
        "id": "iQaonMUBqtX2",
        "outputId": "34fa78bf-8e73-45a6-b32c-926ddf31eec8"
      },
      "source": [
        "from __future__ import print_function, division\n",
        "import numpy as np\n",
        "import scipy as sp\n",
        "from scipy import stats\n",
        "import pylab as pl\n",
        "%pylab inline\n",
        "pl.style.use(\"https://raw.githubusercontent.com/fedhere/DSPS/master/fbb.mplstyle\")\n",
        "\n",
        "from scipy.stats import pareto"
      ],
      "execution_count": 75,
      "outputs": [
        {
          "output_type": "stream",
          "name": "stdout",
          "text": [
            "Populating the interactive namespace from numpy and matplotlib\n"
          ]
        },
        {
          "output_type": "stream",
          "name": "stderr",
          "text": [
            "/usr/local/lib/python3.7/dist-packages/IPython/core/magics/pylab.py:161: UserWarning: pylab import has clobbered these variables: ['pareto']\n",
            "`%matplotlib` prevents importing * from pylab and numpy\n",
            "  \"\\n`%matplotlib` prevents importing * from pylab and numpy\"\n"
          ]
        }
      ]
    },
    {
      "cell_type": "markdown",
      "metadata": {
        "id": "zu5QKDi5b7vW"
      },
      "source": [
        "# Homework 1: Maxwell Boltzmann distribution"
      ]
    },
    {
      "cell_type": "markdown",
      "metadata": {
        "id": "ueaB0mHCO_iM"
      },
      "source": [
        "In Physics, statistics can help us describe the macroscopic behavior of a system if we know its microscopic properties in a statistical sense. We cannot know the motion of each molecule in a gas, but we can know the distribution of their velocities and positions.   In the mid to late 1800s, James Clerk Maxwell and Ludwig Boltzmann modeled the *distribution of speed of molecules in a gas*. As you probably know, and can intuitive realize, the speed of the molecules depends on the temperature of the gas, which is a macroscopic property, the velocity of the molecules is different for different gas temperatures. **This distribution of velocities is called the Maxwell-Boltzmann distribution.**\n"
      ]
    },
    {
      "cell_type": "markdown",
      "metadata": {
        "id": "7LpR51uQSvN9"
      },
      "source": [
        "It turns out that the Maxwel-Boltzmann distribution is a special case of the [*Chi distribution*](https://en.wikipedia.org/wiki/Chi_distribution) with 3 degrees of freedom, and with a scale parameter corresponding to the temperature in some way. \n"
      ]
    },
    {
      "cell_type": "markdown",
      "metadata": {
        "id": "Pc25lN9SUxQL"
      },
      "source": [
        "Below I have created 3 distributions. Based on the description above\n",
        "\n",
        "\n",
        "# 1) label the axes in the plot"
      ]
    },
    {
      "cell_type": "code",
      "metadata": {
        "ExecuteTime": {
          "end_time": "2019-09-07T17:36:56.493299Z",
          "start_time": "2019-09-07T17:36:56.021862Z"
        },
        "colab": {
          "base_uri": "https://localhost:8080/",
          "height": 311
        },
        "id": "LZm2afzhUwuG",
        "outputId": "386f9b9e-df97-4164-e940-f8065489a321"
      },
      "source": [
        "np.random.randn(234)\n",
        "fig, ax = pl.subplots()\n",
        "\n",
        "for a in [0.2, 0.6, 1.0]:\n",
        "    np.random.seed(seed=234); ### I added this so that the mean that is calculated in step 3 is the same as the means here of the distributions here\n",
        "    ax.hist(sp.stats.chi.rvs(df=3, scale=a, size=1000), # could as well be sp.stats.maxwell.rvs(scale=a, size=1000)\n",
        "    #df=3 is 3 degrees of freedom, scale=a\n",
        "          bins=np.arange(0,5,0.1), alpha=0.7,\n",
        "       label=\"a = %.1f\"%a);\n",
        "\n",
        "pl.legend();\n",
        "\n",
        "# your code to add labels here\n",
        "\n",
        "plt.xlabel(\"Speed of Gas Particles\");\n",
        "plt.ylabel(\"Number of Gas Particles\");\n"
      ],
      "execution_count": 90,
      "outputs": [
        {
          "output_type": "display_data",
          "data": {
            "image/png": "[encoded data removed]",
            "text/plain": [
              "<Figure size 432x288 with 1 Axes>"
            ]
          },
          "metadata": {}
        }
      ]
    },
    {
      "cell_type": "code",
      "metadata": {
        "id": "tIuK1fC26UEU"
      },
      "source": [
        ""
      ],
      "execution_count": null,
      "outputs": []
    },
    {
      "cell_type": "markdown",
      "metadata": {
        "id": "MGdILsLAaopl"
      },
      "source": [
        "# 2) knowing that the *scale* parameter $a$  is a function of the temperature  *T*, and that the dependency is to a power 1/2, which is correct:\n",
        "   **$a \\propto \\sqrt{T}$**  or **$a \\propto \\sqrt{1/T}$**? \n",
        "\n",
        "   (in other words, is the dependency on the root of the temperature or on the inverse root of the temperature ?)\n",
        " "
      ]
    },
    {
      "cell_type": "markdown",
      "metadata": {
        "id": "vMGhorbvcrFM"
      },
      "source": [
        "Your answer here:...\n",
        "since a(T), and the relation is just T^(1/2) -->\n",
        "   **$a \\propto \\sqrt{T}$**"
      ]
    },
    {
      "cell_type": "markdown",
      "metadata": {
        "id": "hGeeXYttXLO1"
      },
      "source": [
        "\n",
        "# 3) What is the mean of all three distributions. How does it compare to the most probable molecular speed? \n",
        "From the wikipedia page of the Chi distribution find the formula of the mean of the Chi distribution. The distribution we are using has a scale parameter *a* in addition to the number of degrees of freedom. The mean scales linearly with this parameter:\n",
        "\n",
        "$\\mu_{\\mathrm{MB}, k, a} = a \\cdot \\mu_{\\mathrm{chi}, k}$\n",
        "\n",
        "Using the scipy function ```sp.special.gamma()```  calculate the gamma $\\Gamma$ function,\n",
        "\n",
        "**calculate the mean of all three distributions. Compare it with the mean of the empirical distributions I generated in step 1. How does this mean compare to the most probable molecular speed.**"
      ]
    },
    {
      "cell_type": "code",
      "metadata": {
        "ExecuteTime": {
          "end_time": "2019-09-07T17:36:59.245480Z",
          "start_time": "2019-09-07T17:36:59.243338Z"
        },
        "id": "-8htAA4mRAVa",
        "colab": {
          "base_uri": "https://localhost:8080/"
        },
        "outputId": "8b3f30c5-ca23-4a8e-ec0f-541dab349027"
      },
      "source": [
        "#Find Chi Distribution mean on wiki\n",
        "#Our distribution uses 'a' and the num. of degrees of freedom\n",
        "#The mean scales linearly with mu_MB,k,a\n",
        "#use sp.special.gamma() to calculate the gamma function\n",
        "#in pt-1, the degrees of freedom(df or k) used is 3\n",
        "\n",
        "np.random.seed(seed=234)\n",
        "mu_1=0.2*sqrt(2)*sp.special.gamma((3+1)/2)/sp.special.gamma(3/2) # k=3 a=0.2\n",
        "np.random.seed(seed=234)\n",
        "mu_2=0.6*sqrt(2)*sp.special.gamma((3+1)/2)/sp.special.gamma(3/2) # k=3 a=0.6\n",
        "np.random.seed(seed=234)\n",
        "mu_3=1.0*sqrt(2)*sp.special.gamma((3+1)/2)/sp.special.gamma(3/2) # k=3 a=1.0\n",
        "\n",
        "print(\"from the chi-distribution mean from wikipedia:\")\n",
        "print('\\u03BC (k=3,a=0.2)', \"=\",  str(round(mu_1, 4)))\n",
        "print('\\u03BC (k=3,a=0.6)', \"=\",  str(round(mu_2, 4)))\n",
        "print('\\u03BC (k=3,a=1.0)', \"=\",  str(round(mu_3, 4)),'\\n')\n",
        "\n",
        "#finding the mean of the empirical distributions from step 1:\n",
        "np.random.seed(seed=234)\n",
        "mean_1=mean(sp.stats.chi.rvs(df=3, scale=0.2, size=1000))\n",
        "np.random.seed(seed=234)\n",
        "mean_2=mean(sp.stats.chi.rvs(df=3, scale=0.6, size=1000))\n",
        "np.random.seed(seed=234)\n",
        "mean_3=mean(sp.stats.chi.rvs(df=3, scale=1.0, size=1000))\n",
        "print(\"from the means from step 1:\")\n",
        "print(\"mean where a=0.2:\",round(mean_1,4))\n",
        "print(\"mean where a=0.6:\",round(mean_2,4))\n",
        "print(\"mean where a=1.0:\",round(mean_3,4),\"\\n\")\n",
        "print(\"The difference between\",'\\u03BC (k=3,a=0.2)',\"and Step 1's a=0.2 is:\",round(abs(mean_1-mu_1),4))\n",
        "print(\"The difference between\",'\\u03BC (k=3,a=0.6)',\"and Step 1's a=0.6 is:\",round(abs(mean_2-mu_2),4))\n",
        "print(\"The difference between\",'\\u03BC (k=3,a=1.0)',\"and Step 1's a=1.0 is:\",round(abs(mean_3-mu_3),4))"
      ],
      "execution_count": 89,
      "outputs": [
        {
          "output_type": "stream",
          "name": "stdout",
          "text": [
            "from the chi-distribution mean from wikipedia:\n",
            "μ (k=3,a=0.2) = 0.3192\n",
            "μ (k=3,a=0.6) = 0.9575\n",
            "μ (k=3,a=1.0) = 1.5958 \n",
            "\n",
            "from the means from step 1:\n",
            "mean where a=0.2: 0.3146\n",
            "mean where a=0.6: 0.9437\n",
            "mean where a=1.0: 1.5729 \n",
            "\n",
            "The difference between μ (k=3,a=0.2) and Step 1's a=0.2 is: 0.0046\n",
            "The difference between μ (k=3,a=0.6) and Step 1's a=0.6 is: 0.0138\n",
            "The difference between μ (k=3,a=1.0) and Step 1's a=1.0 is: 0.0229\n"
          ]
        }
      ]
    },
    {
      "cell_type": "markdown",
      "metadata": {
        "id": "7WOtMRqJLhff"
      },
      "source": [
        "The similarity between the means suggests that the averages at each scaling parameter are related. These means are likely similar to the most probable molecular speed, although it is not identical."
      ]
    },
    {
      "cell_type": "markdown",
      "metadata": {
        "id": "r7oes80EQER-"
      },
      "source": [
        "This really only holds for perfect gasses, which means under 4 assumptions: \n",
        "- the diameter of the molecules is much smaller than the distance between them\n",
        "- the collisions between molecules conserve energy\n",
        "- the molecules do not interact between collisions and are not subject to any other forces (move at constant speed in a straight line)\n",
        "- the initial position and velocity are random."
      ]
    }
  ]
}